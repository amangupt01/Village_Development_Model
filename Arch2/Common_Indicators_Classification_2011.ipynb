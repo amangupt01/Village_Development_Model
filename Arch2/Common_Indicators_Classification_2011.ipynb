{
  "nbformat": 4,
  "nbformat_minor": 0,
  "metadata": {
    "colab": {
      "provenance": []
    },
    "kernelspec": {
      "name": "python3",
      "display_name": "Python 3"
    },
    "language_info": {
      "name": "python"
    }
  },
  "cells": [
    {
      "cell_type": "code",
      "metadata": {
        "id": "CFg9v4czxzby"
      },
      "source": [
        "from google.colab import drive\n",
        "drive.mount('/content/drive')"
      ],
      "execution_count": null,
      "outputs": []
    },
    {
      "cell_type": "markdown",
      "metadata": {
        "id": "1yVByrqF9qky"
      },
      "source": [
        "<font color=\"red\" size=\"6\">Import Libraries</font>"
      ]
    },
    {
      "cell_type": "code",
      "metadata": {
        "id": "hxU0JcpX0tLR"
      },
      "source": [
        "import pickle\n",
        "import pandas as pd\n",
        "import numpy as np\n",
        "import matplotlib.pyplot as plt\n",
        "import seaborn as sns\n",
        "from numpy import random\n",
        "from tqdm import tqdm\n",
        "from imblearn.over_sampling import SMOTE\n",
        "from imblearn.under_sampling import RandomUnderSampler\n",
        "from imblearn import pipeline\n",
        "from sklearn.feature_selection import SelectKBest, f_regression, f_classif, chi2, SelectFromModel\n",
        "from sklearn.model_selection import train_test_split\n",
        "from sklearn.linear_model import LinearRegression\n",
        "from sklearn.cluster import KMeans\n",
        "from sklearn.tree import DecisionTreeRegressor, DecisionTreeClassifier\n",
        "from sklearn.ensemble import RandomForestRegressor, RandomForestClassifier\n",
        "from scipy.stats import pearsonr\n",
        "from sklearn.metrics import confusion_matrix, classification_report, silhouette_score, f1_score, precision_recall_curve, plot_precision_recall_curve, average_precision_score, auc\n",
        "from sklearn.svm import SVR, LinearSVR, SVC, LinearSVC\n",
        "from sklearn.pipeline import make_pipeline, Pipeline\n",
        "from sklearn.preprocessing import StandardScaler, MinMaxScaler, OneHotEncoder\n",
        "from sklearn.kernel_approximation import Nystroem\n",
        "from sklearn.linear_model import SGDClassifier, SGDRegressor\n",
        "from sklearn.neural_network import MLPClassifier, MLPRegressor\n",
        "from scipy import stats\n",
        "from keras.layers import Dense\n",
        "from keras.models import Sequential\n",
        "from sklearn.metrics import plot_confusion_matrix"
      ],
      "execution_count": null,
      "outputs": []
    },
    {
      "cell_type": "markdown",
      "metadata": {
        "id": "PBlFxmDd9z95"
      },
      "source": [
        "<font color=\"red\" size=\"6\">Load Input and Output</font>"
      ]
    },
    {
      "cell_type": "code",
      "metadata": {
        "id": "mzU1-NAp1Gz1"
      },
      "source": [
        "#GIVE THE PATH FOR THE INPUT AND OUTPUT FILES\n",
        "IN = pickle.load(open('/content/drive/MyDrive/Input_output_regression/Final_IO/Trainval_comb/new_input_trainvalcomb.pickle','rb'))\n",
        "OUT = pickle.load(open('/content/drive/MyDrive/Input_output_regression/Final_IO/output.pickle','rb'))"
      ],
      "execution_count": null,
      "outputs": []
    },
    {
      "cell_type": "code",
      "metadata": {
        "colab": {
          "base_uri": "https://localhost:8080/",
          "height": 693
        },
        "id": "WouBIWEG2xj2",
        "outputId": "d25a297f-15d1-4f1a-9ba0-fed1a0f1a35a"
      },
      "source": [
        "IN"
      ],
      "execution_count": null,
      "outputs": [
        {
          "output_type": "execute_result",
          "data": {
            "text/html": [
              "\n",
              "  <div id=\"df-b53fc50a-a31c-493b-ad2d-d26acde3d4f2\">\n",
              "    <div class=\"colab-df-container\">\n",
              "      <div>\n",
              "<style scoped>\n",
              "    .dataframe tbody tr th:only-of-type {\n",
              "        vertical-align: middle;\n",
              "    }\n",
              "\n",
              "    .dataframe tbody tr th {\n",
              "        vertical-align: top;\n",
              "    }\n",
              "\n",
              "    .dataframe thead th {\n",
              "        text-align: right;\n",
              "    }\n",
              "</style>\n",
              "<table border=\"1\" class=\"dataframe\">\n",
              "  <thead>\n",
              "    <tr style=\"text-align: right;\">\n",
              "      <th></th>\n",
              "      <th>BF_0_OUT_1</th>\n",
              "      <th>BF_0_OUT_2</th>\n",
              "      <th>BF_0_OUT_3</th>\n",
              "      <th>FC_0_OUT_1</th>\n",
              "      <th>FC_0_OUT_2</th>\n",
              "      <th>FC_0_OUT_3</th>\n",
              "      <th>MSW_0_OUT_1</th>\n",
              "      <th>MSW_0_OUT_2</th>\n",
              "      <th>MSW_0_OUT_3</th>\n",
              "      <th>ASSET_0_OUT_1</th>\n",
              "      <th>...</th>\n",
              "      <th>ASSET_N_OUT_3</th>\n",
              "      <th>dc_score_none_size_only</th>\n",
              "      <th>dc_score_none_size_intensity_only</th>\n",
              "      <th>dc_score_none_intensity_only</th>\n",
              "      <th>dc_score_log_size_only</th>\n",
              "      <th>dc_score_log_size_intensity_only</th>\n",
              "      <th>dc_score_log_intensity_only</th>\n",
              "      <th>dc_score_sqrt_size_only</th>\n",
              "      <th>dc_score_sqrt_size_intensity_only</th>\n",
              "      <th>dc_score_sqrt_intensity_only</th>\n",
              "    </tr>\n",
              "    <tr>\n",
              "      <th>Village_ID</th>\n",
              "      <th></th>\n",
              "      <th></th>\n",
              "      <th></th>\n",
              "      <th></th>\n",
              "      <th></th>\n",
              "      <th></th>\n",
              "      <th></th>\n",
              "      <th></th>\n",
              "      <th></th>\n",
              "      <th></th>\n",
              "      <th></th>\n",
              "      <th></th>\n",
              "      <th></th>\n",
              "      <th></th>\n",
              "      <th></th>\n",
              "      <th></th>\n",
              "      <th></th>\n",
              "      <th></th>\n",
              "      <th></th>\n",
              "      <th></th>\n",
              "      <th></th>\n",
              "    </tr>\n",
              "  </thead>\n",
              "  <tbody>\n",
              "    <tr>\n",
              "      <th>347135.0</th>\n",
              "      <td>0.996886</td>\n",
              "      <td>2.804913e-03</td>\n",
              "      <td>3.085900e-04</td>\n",
              "      <td>0.984029</td>\n",
              "      <td>0.014411</td>\n",
              "      <td>0.001560</td>\n",
              "      <td>0.333333</td>\n",
              "      <td>0.333333</td>\n",
              "      <td>0.333333</td>\n",
              "      <td>0.841631</td>\n",
              "      <td>...</td>\n",
              "      <td>0.016892</td>\n",
              "      <td>-1.078912</td>\n",
              "      <td>0.885764</td>\n",
              "      <td>2.745341</td>\n",
              "      <td>-0.823889</td>\n",
              "      <td>0.721405</td>\n",
              "      <td>1.375449</td>\n",
              "      <td>-1.026595</td>\n",
              "      <td>0.827574</td>\n",
              "      <td>2.086867</td>\n",
              "    </tr>\n",
              "    <tr>\n",
              "      <th>347136.0</th>\n",
              "      <td>0.803792</td>\n",
              "      <td>1.606696e-01</td>\n",
              "      <td>3.553830e-02</td>\n",
              "      <td>0.333333</td>\n",
              "      <td>0.333333</td>\n",
              "      <td>0.333333</td>\n",
              "      <td>0.333333</td>\n",
              "      <td>0.333333</td>\n",
              "      <td>0.333333</td>\n",
              "      <td>0.990326</td>\n",
              "      <td>...</td>\n",
              "      <td>0.019993</td>\n",
              "      <td>-1.078912</td>\n",
              "      <td>0.885764</td>\n",
              "      <td>2.745341</td>\n",
              "      <td>-0.823889</td>\n",
              "      <td>0.721405</td>\n",
              "      <td>1.375449</td>\n",
              "      <td>-1.026595</td>\n",
              "      <td>0.827574</td>\n",
              "      <td>2.086867</td>\n",
              "    </tr>\n",
              "    <tr>\n",
              "      <th>347137.0</th>\n",
              "      <td>0.999925</td>\n",
              "      <td>6.222542e-06</td>\n",
              "      <td>6.883658e-05</td>\n",
              "      <td>0.879349</td>\n",
              "      <td>0.119669</td>\n",
              "      <td>0.000982</td>\n",
              "      <td>0.333333</td>\n",
              "      <td>0.333333</td>\n",
              "      <td>0.333333</td>\n",
              "      <td>0.828607</td>\n",
              "      <td>...</td>\n",
              "      <td>0.016926</td>\n",
              "      <td>-1.078912</td>\n",
              "      <td>0.885764</td>\n",
              "      <td>2.745341</td>\n",
              "      <td>-0.823889</td>\n",
              "      <td>0.721405</td>\n",
              "      <td>1.375449</td>\n",
              "      <td>-1.026595</td>\n",
              "      <td>0.827574</td>\n",
              "      <td>2.086867</td>\n",
              "    </tr>\n",
              "    <tr>\n",
              "      <th>347138.0</th>\n",
              "      <td>1.000000</td>\n",
              "      <td>8.502429e-08</td>\n",
              "      <td>1.301872e-08</td>\n",
              "      <td>0.333333</td>\n",
              "      <td>0.333333</td>\n",
              "      <td>0.333333</td>\n",
              "      <td>0.333333</td>\n",
              "      <td>0.333333</td>\n",
              "      <td>0.333333</td>\n",
              "      <td>0.128469</td>\n",
              "      <td>...</td>\n",
              "      <td>0.019393</td>\n",
              "      <td>-1.078912</td>\n",
              "      <td>0.885764</td>\n",
              "      <td>2.745341</td>\n",
              "      <td>-0.823889</td>\n",
              "      <td>0.721405</td>\n",
              "      <td>1.375449</td>\n",
              "      <td>-1.026595</td>\n",
              "      <td>0.827574</td>\n",
              "      <td>2.086867</td>\n",
              "    </tr>\n",
              "    <tr>\n",
              "      <th>347139.0</th>\n",
              "      <td>0.999262</td>\n",
              "      <td>4.217611e-09</td>\n",
              "      <td>7.383435e-04</td>\n",
              "      <td>0.545641</td>\n",
              "      <td>0.444846</td>\n",
              "      <td>0.009513</td>\n",
              "      <td>0.333333</td>\n",
              "      <td>0.333333</td>\n",
              "      <td>0.333333</td>\n",
              "      <td>0.142207</td>\n",
              "      <td>...</td>\n",
              "      <td>0.020310</td>\n",
              "      <td>-1.078912</td>\n",
              "      <td>0.885764</td>\n",
              "      <td>2.745341</td>\n",
              "      <td>-0.823889</td>\n",
              "      <td>0.721405</td>\n",
              "      <td>1.375449</td>\n",
              "      <td>-1.026595</td>\n",
              "      <td>0.827574</td>\n",
              "      <td>2.086867</td>\n",
              "    </tr>\n",
              "    <tr>\n",
              "      <th>...</th>\n",
              "      <td>...</td>\n",
              "      <td>...</td>\n",
              "      <td>...</td>\n",
              "      <td>...</td>\n",
              "      <td>...</td>\n",
              "      <td>...</td>\n",
              "      <td>...</td>\n",
              "      <td>...</td>\n",
              "      <td>...</td>\n",
              "      <td>...</td>\n",
              "      <td>...</td>\n",
              "      <td>...</td>\n",
              "      <td>...</td>\n",
              "      <td>...</td>\n",
              "      <td>...</td>\n",
              "      <td>...</td>\n",
              "      <td>...</td>\n",
              "      <td>...</td>\n",
              "      <td>...</td>\n",
              "      <td>...</td>\n",
              "      <td>...</td>\n",
              "    </tr>\n",
              "    <tr>\n",
              "      <th>597104.0</th>\n",
              "      <td>0.988058</td>\n",
              "      <td>6.845038e-03</td>\n",
              "      <td>5.096631e-03</td>\n",
              "      <td>0.333333</td>\n",
              "      <td>0.333333</td>\n",
              "      <td>0.333333</td>\n",
              "      <td>0.121657</td>\n",
              "      <td>0.094932</td>\n",
              "      <td>0.783411</td>\n",
              "      <td>0.124646</td>\n",
              "      <td>...</td>\n",
              "      <td>0.442446</td>\n",
              "      <td>0.419805</td>\n",
              "      <td>0.599387</td>\n",
              "      <td>-0.360218</td>\n",
              "      <td>0.573613</td>\n",
              "      <td>0.608480</td>\n",
              "      <td>0.225646</td>\n",
              "      <td>0.527030</td>\n",
              "      <td>0.630413</td>\n",
              "      <td>-0.111719</td>\n",
              "    </tr>\n",
              "    <tr>\n",
              "      <th>597105.0</th>\n",
              "      <td>0.603880</td>\n",
              "      <td>8.308426e-03</td>\n",
              "      <td>3.878113e-01</td>\n",
              "      <td>0.333333</td>\n",
              "      <td>0.333333</td>\n",
              "      <td>0.333333</td>\n",
              "      <td>0.200749</td>\n",
              "      <td>0.201678</td>\n",
              "      <td>0.597574</td>\n",
              "      <td>0.012003</td>\n",
              "      <td>...</td>\n",
              "      <td>0.313531</td>\n",
              "      <td>0.419805</td>\n",
              "      <td>0.599387</td>\n",
              "      <td>-0.360218</td>\n",
              "      <td>0.573613</td>\n",
              "      <td>0.608480</td>\n",
              "      <td>0.225646</td>\n",
              "      <td>0.527030</td>\n",
              "      <td>0.630413</td>\n",
              "      <td>-0.111719</td>\n",
              "    </tr>\n",
              "    <tr>\n",
              "      <th>597106.0</th>\n",
              "      <td>0.999546</td>\n",
              "      <td>3.706203e-04</td>\n",
              "      <td>8.294324e-05</td>\n",
              "      <td>0.205627</td>\n",
              "      <td>0.001459</td>\n",
              "      <td>0.792914</td>\n",
              "      <td>0.085841</td>\n",
              "      <td>0.027875</td>\n",
              "      <td>0.886283</td>\n",
              "      <td>0.212115</td>\n",
              "      <td>...</td>\n",
              "      <td>0.442665</td>\n",
              "      <td>0.419805</td>\n",
              "      <td>0.599387</td>\n",
              "      <td>-0.360218</td>\n",
              "      <td>0.573613</td>\n",
              "      <td>0.608480</td>\n",
              "      <td>0.225646</td>\n",
              "      <td>0.527030</td>\n",
              "      <td>0.630413</td>\n",
              "      <td>-0.111719</td>\n",
              "    </tr>\n",
              "    <tr>\n",
              "      <th>597107.0</th>\n",
              "      <td>0.999879</td>\n",
              "      <td>1.201696e-04</td>\n",
              "      <td>5.643636e-07</td>\n",
              "      <td>0.903893</td>\n",
              "      <td>0.003591</td>\n",
              "      <td>0.092516</td>\n",
              "      <td>0.113792</td>\n",
              "      <td>0.026590</td>\n",
              "      <td>0.859618</td>\n",
              "      <td>0.333333</td>\n",
              "      <td>...</td>\n",
              "      <td>0.609789</td>\n",
              "      <td>0.419805</td>\n",
              "      <td>0.599387</td>\n",
              "      <td>-0.360218</td>\n",
              "      <td>0.573613</td>\n",
              "      <td>0.608480</td>\n",
              "      <td>0.225646</td>\n",
              "      <td>0.527030</td>\n",
              "      <td>0.630413</td>\n",
              "      <td>-0.111719</td>\n",
              "    </tr>\n",
              "    <tr>\n",
              "      <th>597109.0</th>\n",
              "      <td>0.409275</td>\n",
              "      <td>5.904147e-01</td>\n",
              "      <td>3.104728e-04</td>\n",
              "      <td>0.987121</td>\n",
              "      <td>0.006557</td>\n",
              "      <td>0.006321</td>\n",
              "      <td>0.333333</td>\n",
              "      <td>0.333333</td>\n",
              "      <td>0.333333</td>\n",
              "      <td>0.023965</td>\n",
              "      <td>...</td>\n",
              "      <td>0.453773</td>\n",
              "      <td>0.419805</td>\n",
              "      <td>0.599387</td>\n",
              "      <td>-0.360218</td>\n",
              "      <td>0.573613</td>\n",
              "      <td>0.608480</td>\n",
              "      <td>0.225646</td>\n",
              "      <td>0.527030</td>\n",
              "      <td>0.630413</td>\n",
              "      <td>-0.111719</td>\n",
              "    </tr>\n",
              "  </tbody>\n",
              "</table>\n",
              "<p>340953 rows × 105 columns</p>\n",
              "</div>\n",
              "      <button class=\"colab-df-convert\" onclick=\"convertToInteractive('df-b53fc50a-a31c-493b-ad2d-d26acde3d4f2')\"\n",
              "              title=\"Convert this dataframe to an interactive table.\"\n",
              "              style=\"display:none;\">\n",
              "        \n",
              "  <svg xmlns=\"http://www.w3.org/2000/svg\" height=\"24px\"viewBox=\"0 0 24 24\"\n",
              "       width=\"24px\">\n",
              "    <path d=\"M0 0h24v24H0V0z\" fill=\"none\"/>\n",
              "    <path d=\"M18.56 5.44l.94 2.06.94-2.06 2.06-.94-2.06-.94-.94-2.06-.94 2.06-2.06.94zm-11 1L8.5 8.5l.94-2.06 2.06-.94-2.06-.94L8.5 2.5l-.94 2.06-2.06.94zm10 10l.94 2.06.94-2.06 2.06-.94-2.06-.94-.94-2.06-.94 2.06-2.06.94z\"/><path d=\"M17.41 7.96l-1.37-1.37c-.4-.4-.92-.59-1.43-.59-.52 0-1.04.2-1.43.59L10.3 9.45l-7.72 7.72c-.78.78-.78 2.05 0 2.83L4 21.41c.39.39.9.59 1.41.59.51 0 1.02-.2 1.41-.59l7.78-7.78 2.81-2.81c.8-.78.8-2.07 0-2.86zM5.41 20L4 18.59l7.72-7.72 1.47 1.35L5.41 20z\"/>\n",
              "  </svg>\n",
              "      </button>\n",
              "      \n",
              "  <style>\n",
              "    .colab-df-container {\n",
              "      display:flex;\n",
              "      flex-wrap:wrap;\n",
              "      gap: 12px;\n",
              "    }\n",
              "\n",
              "    .colab-df-convert {\n",
              "      background-color: #E8F0FE;\n",
              "      border: none;\n",
              "      border-radius: 50%;\n",
              "      cursor: pointer;\n",
              "      display: none;\n",
              "      fill: #1967D2;\n",
              "      height: 32px;\n",
              "      padding: 0 0 0 0;\n",
              "      width: 32px;\n",
              "    }\n",
              "\n",
              "    .colab-df-convert:hover {\n",
              "      background-color: #E2EBFA;\n",
              "      box-shadow: 0px 1px 2px rgba(60, 64, 67, 0.3), 0px 1px 3px 1px rgba(60, 64, 67, 0.15);\n",
              "      fill: #174EA6;\n",
              "    }\n",
              "\n",
              "    [theme=dark] .colab-df-convert {\n",
              "      background-color: #3B4455;\n",
              "      fill: #D2E3FC;\n",
              "    }\n",
              "\n",
              "    [theme=dark] .colab-df-convert:hover {\n",
              "      background-color: #434B5C;\n",
              "      box-shadow: 0px 1px 3px 1px rgba(0, 0, 0, 0.15);\n",
              "      filter: drop-shadow(0px 1px 2px rgba(0, 0, 0, 0.3));\n",
              "      fill: #FFFFFF;\n",
              "    }\n",
              "  </style>\n",
              "\n",
              "      <script>\n",
              "        const buttonEl =\n",
              "          document.querySelector('#df-b53fc50a-a31c-493b-ad2d-d26acde3d4f2 button.colab-df-convert');\n",
              "        buttonEl.style.display =\n",
              "          google.colab.kernel.accessAllowed ? 'block' : 'none';\n",
              "\n",
              "        async function convertToInteractive(key) {\n",
              "          const element = document.querySelector('#df-b53fc50a-a31c-493b-ad2d-d26acde3d4f2');\n",
              "          const dataTable =\n",
              "            await google.colab.kernel.invokeFunction('convertToInteractive',\n",
              "                                                     [key], {});\n",
              "          if (!dataTable) return;\n",
              "\n",
              "          const docLinkHtml = 'Like what you see? Visit the ' +\n",
              "            '<a target=\"_blank\" href=https://colab.research.google.com/notebooks/data_table.ipynb>data table notebook</a>'\n",
              "            + ' to learn more about interactive tables.';\n",
              "          element.innerHTML = '';\n",
              "          dataTable['output_type'] = 'display_data';\n",
              "          await google.colab.output.renderOutput(dataTable, element);\n",
              "          const docLink = document.createElement('div');\n",
              "          docLink.innerHTML = docLinkHtml;\n",
              "          element.appendChild(docLink);\n",
              "        }\n",
              "      </script>\n",
              "    </div>\n",
              "  </div>\n",
              "  "
            ],
            "text/plain": [
              "            BF_0_OUT_1    BF_0_OUT_2    BF_0_OUT_3  FC_0_OUT_1  FC_0_OUT_2  \\\n",
              "Village_ID                                                                   \n",
              "347135.0      0.996886  2.804913e-03  3.085900e-04    0.984029    0.014411   \n",
              "347136.0      0.803792  1.606696e-01  3.553830e-02    0.333333    0.333333   \n",
              "347137.0      0.999925  6.222542e-06  6.883658e-05    0.879349    0.119669   \n",
              "347138.0      1.000000  8.502429e-08  1.301872e-08    0.333333    0.333333   \n",
              "347139.0      0.999262  4.217611e-09  7.383435e-04    0.545641    0.444846   \n",
              "...                ...           ...           ...         ...         ...   \n",
              "597104.0      0.988058  6.845038e-03  5.096631e-03    0.333333    0.333333   \n",
              "597105.0      0.603880  8.308426e-03  3.878113e-01    0.333333    0.333333   \n",
              "597106.0      0.999546  3.706203e-04  8.294324e-05    0.205627    0.001459   \n",
              "597107.0      0.999879  1.201696e-04  5.643636e-07    0.903893    0.003591   \n",
              "597109.0      0.409275  5.904147e-01  3.104728e-04    0.987121    0.006557   \n",
              "\n",
              "            FC_0_OUT_3  MSW_0_OUT_1  MSW_0_OUT_2  MSW_0_OUT_3  ASSET_0_OUT_1  \\\n",
              "Village_ID                                                                     \n",
              "347135.0      0.001560     0.333333     0.333333     0.333333       0.841631   \n",
              "347136.0      0.333333     0.333333     0.333333     0.333333       0.990326   \n",
              "347137.0      0.000982     0.333333     0.333333     0.333333       0.828607   \n",
              "347138.0      0.333333     0.333333     0.333333     0.333333       0.128469   \n",
              "347139.0      0.009513     0.333333     0.333333     0.333333       0.142207   \n",
              "...                ...          ...          ...          ...            ...   \n",
              "597104.0      0.333333     0.121657     0.094932     0.783411       0.124646   \n",
              "597105.0      0.333333     0.200749     0.201678     0.597574       0.012003   \n",
              "597106.0      0.792914     0.085841     0.027875     0.886283       0.212115   \n",
              "597107.0      0.092516     0.113792     0.026590     0.859618       0.333333   \n",
              "597109.0      0.006321     0.333333     0.333333     0.333333       0.023965   \n",
              "\n",
              "            ...  ASSET_N_OUT_3  dc_score_none_size_only  \\\n",
              "Village_ID  ...                                           \n",
              "347135.0    ...       0.016892                -1.078912   \n",
              "347136.0    ...       0.019993                -1.078912   \n",
              "347137.0    ...       0.016926                -1.078912   \n",
              "347138.0    ...       0.019393                -1.078912   \n",
              "347139.0    ...       0.020310                -1.078912   \n",
              "...         ...            ...                      ...   \n",
              "597104.0    ...       0.442446                 0.419805   \n",
              "597105.0    ...       0.313531                 0.419805   \n",
              "597106.0    ...       0.442665                 0.419805   \n",
              "597107.0    ...       0.609789                 0.419805   \n",
              "597109.0    ...       0.453773                 0.419805   \n",
              "\n",
              "            dc_score_none_size_intensity_only  dc_score_none_intensity_only  \\\n",
              "Village_ID                                                                    \n",
              "347135.0                             0.885764                      2.745341   \n",
              "347136.0                             0.885764                      2.745341   \n",
              "347137.0                             0.885764                      2.745341   \n",
              "347138.0                             0.885764                      2.745341   \n",
              "347139.0                             0.885764                      2.745341   \n",
              "...                                       ...                           ...   \n",
              "597104.0                             0.599387                     -0.360218   \n",
              "597105.0                             0.599387                     -0.360218   \n",
              "597106.0                             0.599387                     -0.360218   \n",
              "597107.0                             0.599387                     -0.360218   \n",
              "597109.0                             0.599387                     -0.360218   \n",
              "\n",
              "            dc_score_log_size_only  dc_score_log_size_intensity_only  \\\n",
              "Village_ID                                                             \n",
              "347135.0                 -0.823889                          0.721405   \n",
              "347136.0                 -0.823889                          0.721405   \n",
              "347137.0                 -0.823889                          0.721405   \n",
              "347138.0                 -0.823889                          0.721405   \n",
              "347139.0                 -0.823889                          0.721405   \n",
              "...                            ...                               ...   \n",
              "597104.0                  0.573613                          0.608480   \n",
              "597105.0                  0.573613                          0.608480   \n",
              "597106.0                  0.573613                          0.608480   \n",
              "597107.0                  0.573613                          0.608480   \n",
              "597109.0                  0.573613                          0.608480   \n",
              "\n",
              "            dc_score_log_intensity_only  dc_score_sqrt_size_only  \\\n",
              "Village_ID                                                         \n",
              "347135.0                       1.375449                -1.026595   \n",
              "347136.0                       1.375449                -1.026595   \n",
              "347137.0                       1.375449                -1.026595   \n",
              "347138.0                       1.375449                -1.026595   \n",
              "347139.0                       1.375449                -1.026595   \n",
              "...                                 ...                      ...   \n",
              "597104.0                       0.225646                 0.527030   \n",
              "597105.0                       0.225646                 0.527030   \n",
              "597106.0                       0.225646                 0.527030   \n",
              "597107.0                       0.225646                 0.527030   \n",
              "597109.0                       0.225646                 0.527030   \n",
              "\n",
              "            dc_score_sqrt_size_intensity_only  dc_score_sqrt_intensity_only  \n",
              "Village_ID                                                                   \n",
              "347135.0                             0.827574                      2.086867  \n",
              "347136.0                             0.827574                      2.086867  \n",
              "347137.0                             0.827574                      2.086867  \n",
              "347138.0                             0.827574                      2.086867  \n",
              "347139.0                             0.827574                      2.086867  \n",
              "...                                       ...                           ...  \n",
              "597104.0                             0.630413                     -0.111719  \n",
              "597105.0                             0.630413                     -0.111719  \n",
              "597106.0                             0.630413                     -0.111719  \n",
              "597107.0                             0.630413                     -0.111719  \n",
              "597109.0                             0.630413                     -0.111719  \n",
              "\n",
              "[340953 rows x 105 columns]"
            ]
          },
          "metadata": {},
          "execution_count": 14
        }
      ]
    },
    {
      "cell_type": "code",
      "metadata": {
        "colab": {
          "base_uri": "https://localhost:8080/",
          "height": 586
        },
        "id": "3VVaH3u52x1o",
        "outputId": "f1dfcd7a-be92-4e97-81d4-2e6ff45ac8ab"
      },
      "source": [
        "OUT"
      ],
      "execution_count": null,
      "outputs": [
        {
          "output_type": "execute_result",
          "data": {
            "text/html": [
              "\n",
              "  <div id=\"df-b557c181-ead1-43b8-b7b5-305cfa825421\">\n",
              "    <div class=\"colab-df-container\">\n",
              "      <div>\n",
              "<style scoped>\n",
              "    .dataframe tbody tr th:only-of-type {\n",
              "        vertical-align: middle;\n",
              "    }\n",
              "\n",
              "    .dataframe tbody tr th {\n",
              "        vertical-align: top;\n",
              "    }\n",
              "\n",
              "    .dataframe thead th {\n",
              "        text-align: right;\n",
              "    }\n",
              "</style>\n",
              "<table border=\"1\" class=\"dataframe\">\n",
              "  <thead>\n",
              "    <tr style=\"text-align: right;\">\n",
              "      <th></th>\n",
              "      <th>Govt Primary School (Numbers)</th>\n",
              "      <th>Govt  Middle School (Numbers)</th>\n",
              "      <th>Govt  Arts and Science Degree College (Numbers)</th>\n",
              "      <th>Hospital Allopathic (Numbers)</th>\n",
              "      <th>Primary Health Centre (Numbers)</th>\n",
              "      <th>Maternity And Child Welfare Centre (Numbers)</th>\n",
              "      <th>Post Office (Status A(1)/NA(2))</th>\n",
              "      <th>Telephone (landlines) (Status A(1)/NA(2))</th>\n",
              "      <th>Public Bus Service (Status A(1)/NA(2))</th>\n",
              "      <th>Railway Station (Status A(1)/NA(2))</th>\n",
              "      <th>Navigable Waterways (River/Canal) (Status A(1)/NA(2))</th>\n",
              "      <th>Sports Club/Recreation Centre (Status A(1)/NA(2))</th>\n",
              "      <th>Cinema/Video Hall (Status A(1)/NA(2))</th>\n",
              "    </tr>\n",
              "    <tr>\n",
              "      <th>Village Code</th>\n",
              "      <th></th>\n",
              "      <th></th>\n",
              "      <th></th>\n",
              "      <th></th>\n",
              "      <th></th>\n",
              "      <th></th>\n",
              "      <th></th>\n",
              "      <th></th>\n",
              "      <th></th>\n",
              "      <th></th>\n",
              "      <th></th>\n",
              "      <th></th>\n",
              "      <th></th>\n",
              "    </tr>\n",
              "  </thead>\n",
              "  <tbody>\n",
              "    <tr>\n",
              "      <th>347135.0</th>\n",
              "      <td>1.0</td>\n",
              "      <td>1.0</td>\n",
              "      <td>0.0</td>\n",
              "      <td>0.0</td>\n",
              "      <td>0.0</td>\n",
              "      <td>0.0</td>\n",
              "      <td>0.0</td>\n",
              "      <td>0.0</td>\n",
              "      <td>0.0</td>\n",
              "      <td>0.0</td>\n",
              "      <td>0.0</td>\n",
              "      <td>0.0</td>\n",
              "      <td>0.0</td>\n",
              "    </tr>\n",
              "    <tr>\n",
              "      <th>347136.0</th>\n",
              "      <td>2.0</td>\n",
              "      <td>0.0</td>\n",
              "      <td>0.0</td>\n",
              "      <td>0.0</td>\n",
              "      <td>0.0</td>\n",
              "      <td>0.0</td>\n",
              "      <td>1.0</td>\n",
              "      <td>0.0</td>\n",
              "      <td>1.0</td>\n",
              "      <td>0.0</td>\n",
              "      <td>0.0</td>\n",
              "      <td>0.0</td>\n",
              "      <td>0.0</td>\n",
              "    </tr>\n",
              "    <tr>\n",
              "      <th>347137.0</th>\n",
              "      <td>2.0</td>\n",
              "      <td>1.0</td>\n",
              "      <td>0.0</td>\n",
              "      <td>0.0</td>\n",
              "      <td>0.0</td>\n",
              "      <td>0.0</td>\n",
              "      <td>0.0</td>\n",
              "      <td>0.0</td>\n",
              "      <td>0.0</td>\n",
              "      <td>0.0</td>\n",
              "      <td>0.0</td>\n",
              "      <td>0.0</td>\n",
              "      <td>0.0</td>\n",
              "    </tr>\n",
              "    <tr>\n",
              "      <th>347138.0</th>\n",
              "      <td>3.0</td>\n",
              "      <td>1.0</td>\n",
              "      <td>0.0</td>\n",
              "      <td>0.0</td>\n",
              "      <td>0.0</td>\n",
              "      <td>0.0</td>\n",
              "      <td>1.0</td>\n",
              "      <td>0.0</td>\n",
              "      <td>1.0</td>\n",
              "      <td>0.0</td>\n",
              "      <td>0.0</td>\n",
              "      <td>0.0</td>\n",
              "      <td>0.0</td>\n",
              "    </tr>\n",
              "    <tr>\n",
              "      <th>347139.0</th>\n",
              "      <td>2.0</td>\n",
              "      <td>1.0</td>\n",
              "      <td>0.0</td>\n",
              "      <td>0.0</td>\n",
              "      <td>0.0</td>\n",
              "      <td>0.0</td>\n",
              "      <td>0.0</td>\n",
              "      <td>0.0</td>\n",
              "      <td>0.0</td>\n",
              "      <td>0.0</td>\n",
              "      <td>0.0</td>\n",
              "      <td>0.0</td>\n",
              "      <td>0.0</td>\n",
              "    </tr>\n",
              "    <tr>\n",
              "      <th>...</th>\n",
              "      <td>...</td>\n",
              "      <td>...</td>\n",
              "      <td>...</td>\n",
              "      <td>...</td>\n",
              "      <td>...</td>\n",
              "      <td>...</td>\n",
              "      <td>...</td>\n",
              "      <td>...</td>\n",
              "      <td>...</td>\n",
              "      <td>...</td>\n",
              "      <td>...</td>\n",
              "      <td>...</td>\n",
              "      <td>...</td>\n",
              "    </tr>\n",
              "    <tr>\n",
              "      <th>597104.0</th>\n",
              "      <td>6.0</td>\n",
              "      <td>2.0</td>\n",
              "      <td>0.0</td>\n",
              "      <td>0.0</td>\n",
              "      <td>0.0</td>\n",
              "      <td>0.0</td>\n",
              "      <td>0.0</td>\n",
              "      <td>1.0</td>\n",
              "      <td>1.0</td>\n",
              "      <td>0.0</td>\n",
              "      <td>0.0</td>\n",
              "      <td>0.0</td>\n",
              "      <td>0.0</td>\n",
              "    </tr>\n",
              "    <tr>\n",
              "      <th>597105.0</th>\n",
              "      <td>1.0</td>\n",
              "      <td>1.0</td>\n",
              "      <td>0.0</td>\n",
              "      <td>0.0</td>\n",
              "      <td>0.0</td>\n",
              "      <td>0.0</td>\n",
              "      <td>0.0</td>\n",
              "      <td>0.0</td>\n",
              "      <td>1.0</td>\n",
              "      <td>0.0</td>\n",
              "      <td>0.0</td>\n",
              "      <td>0.0</td>\n",
              "      <td>0.0</td>\n",
              "    </tr>\n",
              "    <tr>\n",
              "      <th>597106.0</th>\n",
              "      <td>1.0</td>\n",
              "      <td>0.0</td>\n",
              "      <td>0.0</td>\n",
              "      <td>0.0</td>\n",
              "      <td>0.0</td>\n",
              "      <td>0.0</td>\n",
              "      <td>0.0</td>\n",
              "      <td>0.0</td>\n",
              "      <td>0.0</td>\n",
              "      <td>0.0</td>\n",
              "      <td>0.0</td>\n",
              "      <td>0.0</td>\n",
              "      <td>0.0</td>\n",
              "    </tr>\n",
              "    <tr>\n",
              "      <th>597107.0</th>\n",
              "      <td>2.0</td>\n",
              "      <td>0.0</td>\n",
              "      <td>0.0</td>\n",
              "      <td>0.0</td>\n",
              "      <td>0.0</td>\n",
              "      <td>0.0</td>\n",
              "      <td>0.0</td>\n",
              "      <td>0.0</td>\n",
              "      <td>0.0</td>\n",
              "      <td>0.0</td>\n",
              "      <td>0.0</td>\n",
              "      <td>0.0</td>\n",
              "      <td>0.0</td>\n",
              "    </tr>\n",
              "    <tr>\n",
              "      <th>597109.0</th>\n",
              "      <td>0.0</td>\n",
              "      <td>0.0</td>\n",
              "      <td>0.0</td>\n",
              "      <td>0.0</td>\n",
              "      <td>0.0</td>\n",
              "      <td>0.0</td>\n",
              "      <td>0.0</td>\n",
              "      <td>0.0</td>\n",
              "      <td>0.0</td>\n",
              "      <td>0.0</td>\n",
              "      <td>0.0</td>\n",
              "      <td>0.0</td>\n",
              "      <td>0.0</td>\n",
              "    </tr>\n",
              "  </tbody>\n",
              "</table>\n",
              "<p>340953 rows × 13 columns</p>\n",
              "</div>\n",
              "      <button class=\"colab-df-convert\" onclick=\"convertToInteractive('df-b557c181-ead1-43b8-b7b5-305cfa825421')\"\n",
              "              title=\"Convert this dataframe to an interactive table.\"\n",
              "              style=\"display:none;\">\n",
              "        \n",
              "  <svg xmlns=\"http://www.w3.org/2000/svg\" height=\"24px\"viewBox=\"0 0 24 24\"\n",
              "       width=\"24px\">\n",
              "    <path d=\"M0 0h24v24H0V0z\" fill=\"none\"/>\n",
              "    <path d=\"M18.56 5.44l.94 2.06.94-2.06 2.06-.94-2.06-.94-.94-2.06-.94 2.06-2.06.94zm-11 1L8.5 8.5l.94-2.06 2.06-.94-2.06-.94L8.5 2.5l-.94 2.06-2.06.94zm10 10l.94 2.06.94-2.06 2.06-.94-2.06-.94-.94-2.06-.94 2.06-2.06.94z\"/><path d=\"M17.41 7.96l-1.37-1.37c-.4-.4-.92-.59-1.43-.59-.52 0-1.04.2-1.43.59L10.3 9.45l-7.72 7.72c-.78.78-.78 2.05 0 2.83L4 21.41c.39.39.9.59 1.41.59.51 0 1.02-.2 1.41-.59l7.78-7.78 2.81-2.81c.8-.78.8-2.07 0-2.86zM5.41 20L4 18.59l7.72-7.72 1.47 1.35L5.41 20z\"/>\n",
              "  </svg>\n",
              "      </button>\n",
              "      \n",
              "  <style>\n",
              "    .colab-df-container {\n",
              "      display:flex;\n",
              "      flex-wrap:wrap;\n",
              "      gap: 12px;\n",
              "    }\n",
              "\n",
              "    .colab-df-convert {\n",
              "      background-color: #E8F0FE;\n",
              "      border: none;\n",
              "      border-radius: 50%;\n",
              "      cursor: pointer;\n",
              "      display: none;\n",
              "      fill: #1967D2;\n",
              "      height: 32px;\n",
              "      padding: 0 0 0 0;\n",
              "      width: 32px;\n",
              "    }\n",
              "\n",
              "    .colab-df-convert:hover {\n",
              "      background-color: #E2EBFA;\n",
              "      box-shadow: 0px 1px 2px rgba(60, 64, 67, 0.3), 0px 1px 3px 1px rgba(60, 64, 67, 0.15);\n",
              "      fill: #174EA6;\n",
              "    }\n",
              "\n",
              "    [theme=dark] .colab-df-convert {\n",
              "      background-color: #3B4455;\n",
              "      fill: #D2E3FC;\n",
              "    }\n",
              "\n",
              "    [theme=dark] .colab-df-convert:hover {\n",
              "      background-color: #434B5C;\n",
              "      box-shadow: 0px 1px 3px 1px rgba(0, 0, 0, 0.15);\n",
              "      filter: drop-shadow(0px 1px 2px rgba(0, 0, 0, 0.3));\n",
              "      fill: #FFFFFF;\n",
              "    }\n",
              "  </style>\n",
              "\n",
              "      <script>\n",
              "        const buttonEl =\n",
              "          document.querySelector('#df-b557c181-ead1-43b8-b7b5-305cfa825421 button.colab-df-convert');\n",
              "        buttonEl.style.display =\n",
              "          google.colab.kernel.accessAllowed ? 'block' : 'none';\n",
              "\n",
              "        async function convertToInteractive(key) {\n",
              "          const element = document.querySelector('#df-b557c181-ead1-43b8-b7b5-305cfa825421');\n",
              "          const dataTable =\n",
              "            await google.colab.kernel.invokeFunction('convertToInteractive',\n",
              "                                                     [key], {});\n",
              "          if (!dataTable) return;\n",
              "\n",
              "          const docLinkHtml = 'Like what you see? Visit the ' +\n",
              "            '<a target=\"_blank\" href=https://colab.research.google.com/notebooks/data_table.ipynb>data table notebook</a>'\n",
              "            + ' to learn more about interactive tables.';\n",
              "          element.innerHTML = '';\n",
              "          dataTable['output_type'] = 'display_data';\n",
              "          await google.colab.output.renderOutput(dataTable, element);\n",
              "          const docLink = document.createElement('div');\n",
              "          docLink.innerHTML = docLinkHtml;\n",
              "          element.appendChild(docLink);\n",
              "        }\n",
              "      </script>\n",
              "    </div>\n",
              "  </div>\n",
              "  "
            ],
            "text/plain": [
              "              Govt Primary School (Numbers)  Govt  Middle School (Numbers)  \\\n",
              "Village Code                                                                 \n",
              "347135.0                                1.0                            1.0   \n",
              "347136.0                                2.0                            0.0   \n",
              "347137.0                                2.0                            1.0   \n",
              "347138.0                                3.0                            1.0   \n",
              "347139.0                                2.0                            1.0   \n",
              "...                                     ...                            ...   \n",
              "597104.0                                6.0                            2.0   \n",
              "597105.0                                1.0                            1.0   \n",
              "597106.0                                1.0                            0.0   \n",
              "597107.0                                2.0                            0.0   \n",
              "597109.0                                0.0                            0.0   \n",
              "\n",
              "              Govt  Arts and Science Degree College (Numbers)  \\\n",
              "Village Code                                                    \n",
              "347135.0                                                  0.0   \n",
              "347136.0                                                  0.0   \n",
              "347137.0                                                  0.0   \n",
              "347138.0                                                  0.0   \n",
              "347139.0                                                  0.0   \n",
              "...                                                       ...   \n",
              "597104.0                                                  0.0   \n",
              "597105.0                                                  0.0   \n",
              "597106.0                                                  0.0   \n",
              "597107.0                                                  0.0   \n",
              "597109.0                                                  0.0   \n",
              "\n",
              "             Hospital Allopathic (Numbers) Primary Health Centre (Numbers)  \\\n",
              "Village Code                                                                 \n",
              "347135.0                               0.0                             0.0   \n",
              "347136.0                               0.0                             0.0   \n",
              "347137.0                               0.0                             0.0   \n",
              "347138.0                               0.0                             0.0   \n",
              "347139.0                               0.0                             0.0   \n",
              "...                                    ...                             ...   \n",
              "597104.0                               0.0                             0.0   \n",
              "597105.0                               0.0                             0.0   \n",
              "597106.0                               0.0                             0.0   \n",
              "597107.0                               0.0                             0.0   \n",
              "597109.0                               0.0                             0.0   \n",
              "\n",
              "             Maternity And Child Welfare Centre (Numbers)  \\\n",
              "Village Code                                                \n",
              "347135.0                                              0.0   \n",
              "347136.0                                              0.0   \n",
              "347137.0                                              0.0   \n",
              "347138.0                                              0.0   \n",
              "347139.0                                              0.0   \n",
              "...                                                   ...   \n",
              "597104.0                                              0.0   \n",
              "597105.0                                              0.0   \n",
              "597106.0                                              0.0   \n",
              "597107.0                                              0.0   \n",
              "597109.0                                              0.0   \n",
              "\n",
              "             Post Office (Status A(1)/NA(2))  \\\n",
              "Village Code                                   \n",
              "347135.0                                 0.0   \n",
              "347136.0                                 1.0   \n",
              "347137.0                                 0.0   \n",
              "347138.0                                 1.0   \n",
              "347139.0                                 0.0   \n",
              "...                                      ...   \n",
              "597104.0                                 0.0   \n",
              "597105.0                                 0.0   \n",
              "597106.0                                 0.0   \n",
              "597107.0                                 0.0   \n",
              "597109.0                                 0.0   \n",
              "\n",
              "             Telephone (landlines) (Status A(1)/NA(2))  \\\n",
              "Village Code                                             \n",
              "347135.0                                           0.0   \n",
              "347136.0                                           0.0   \n",
              "347137.0                                           0.0   \n",
              "347138.0                                           0.0   \n",
              "347139.0                                           0.0   \n",
              "...                                                ...   \n",
              "597104.0                                           1.0   \n",
              "597105.0                                           0.0   \n",
              "597106.0                                           0.0   \n",
              "597107.0                                           0.0   \n",
              "597109.0                                           0.0   \n",
              "\n",
              "             Public Bus Service (Status A(1)/NA(2))  \\\n",
              "Village Code                                          \n",
              "347135.0                                        0.0   \n",
              "347136.0                                        1.0   \n",
              "347137.0                                        0.0   \n",
              "347138.0                                        1.0   \n",
              "347139.0                                        0.0   \n",
              "...                                             ...   \n",
              "597104.0                                        1.0   \n",
              "597105.0                                        1.0   \n",
              "597106.0                                        0.0   \n",
              "597107.0                                        0.0   \n",
              "597109.0                                        0.0   \n",
              "\n",
              "             Railway Station (Status A(1)/NA(2))  \\\n",
              "Village Code                                       \n",
              "347135.0                                     0.0   \n",
              "347136.0                                     0.0   \n",
              "347137.0                                     0.0   \n",
              "347138.0                                     0.0   \n",
              "347139.0                                     0.0   \n",
              "...                                          ...   \n",
              "597104.0                                     0.0   \n",
              "597105.0                                     0.0   \n",
              "597106.0                                     0.0   \n",
              "597107.0                                     0.0   \n",
              "597109.0                                     0.0   \n",
              "\n",
              "             Navigable Waterways (River/Canal) (Status A(1)/NA(2))  \\\n",
              "Village Code                                                         \n",
              "347135.0                                                    0.0      \n",
              "347136.0                                                    0.0      \n",
              "347137.0                                                    0.0      \n",
              "347138.0                                                    0.0      \n",
              "347139.0                                                    0.0      \n",
              "...                                                         ...      \n",
              "597104.0                                                    0.0      \n",
              "597105.0                                                    0.0      \n",
              "597106.0                                                    0.0      \n",
              "597107.0                                                    0.0      \n",
              "597109.0                                                    0.0      \n",
              "\n",
              "              Sports Club/Recreation Centre (Status A(1)/NA(2))  \\\n",
              "Village Code                                                      \n",
              "347135.0                                                    0.0   \n",
              "347136.0                                                    0.0   \n",
              "347137.0                                                    0.0   \n",
              "347138.0                                                    0.0   \n",
              "347139.0                                                    0.0   \n",
              "...                                                         ...   \n",
              "597104.0                                                    0.0   \n",
              "597105.0                                                    0.0   \n",
              "597106.0                                                    0.0   \n",
              "597107.0                                                    0.0   \n",
              "597109.0                                                    0.0   \n",
              "\n",
              "              Cinema/Video Hall (Status A(1)/NA(2))  \n",
              "Village Code                                         \n",
              "347135.0                                        0.0  \n",
              "347136.0                                        0.0  \n",
              "347137.0                                        0.0  \n",
              "347138.0                                        0.0  \n",
              "347139.0                                        0.0  \n",
              "...                                             ...  \n",
              "597104.0                                        0.0  \n",
              "597105.0                                        0.0  \n",
              "597106.0                                        0.0  \n",
              "597107.0                                        0.0  \n",
              "597109.0                                        0.0  \n",
              "\n",
              "[340953 rows x 13 columns]"
            ]
          },
          "metadata": {},
          "execution_count": 15
        }
      ]
    },
    {
      "cell_type": "markdown",
      "metadata": {
        "id": "gbRUasVm-Muw"
      },
      "source": [
        "<font color=\"red\" size=\"6\">Create Model Inputs and Outputs</font>"
      ]
    },
    {
      "cell_type": "code",
      "metadata": {
        "id": "od1LZJlW24lv",
        "colab": {
          "base_uri": "https://localhost:8080/"
        },
        "outputId": "54c0d652-26a6-4402-cb35-f25f85378d1f"
      },
      "source": [
        "X, Y_all = IN.copy(), OUT.copy()\n",
        "Y = Y_all.iloc[:,1].astype('float64')\n",
        "\n",
        "# We're doing binary classification\n",
        "# Set a threshold \"t\" such that the values in Y less than or equal to \"t\" will be 0, and greater than \"t\" will be 1\n",
        "t = 1\n",
        "print(len(Y.iloc[np.where(Y <= 1)[0]]), len(Y.iloc[np.where(Y <= 1)[0]]))\n",
        "Y.iloc[np.where(Y <= t)[0]] = 0\n",
        "Y.iloc[np.where(Y > t)[0]] = 1\n",
        "\n",
        "X_train, X_test, Y_train, Y_test = train_test_split(X, Y, train_size=0.8, random_state=0, stratify=Y)\n",
        "# X_train, Y_train = X[:int(len(X)*0.8), :], Y[:int(len(Y)*0.8)]\n",
        "# X_test, Y_test = X[int(len(X)*0.8):, :], Y[int(len(Y)*0.8):]"
      ],
      "execution_count": null,
      "outputs": [
        {
          "output_type": "stream",
          "name": "stdout",
          "text": [
            "303471 37482\n"
          ]
        }
      ]
    },
    {
      "cell_type": "code",
      "source": [
        "3748200/303471"
      ],
      "metadata": {
        "colab": {
          "base_uri": "https://localhost:8080/"
        },
        "id": "qROuUS8NmcBc",
        "outputId": "be9458e9-5213-42ac-abbb-816d760771db"
      },
      "execution_count": null,
      "outputs": [
        {
          "output_type": "execute_result",
          "data": {
            "text/plain": [
              "12.351097798471683"
            ]
          },
          "metadata": {},
          "execution_count": 11
        }
      ]
    },
    {
      "cell_type": "code",
      "metadata": {
        "colab": {
          "base_uri": "https://localhost:8080/"
        },
        "id": "tAjHTMvGV8Ei",
        "outputId": "7f9a103a-ae57-45f5-c2b9-aab652e942ac"
      },
      "source": [
        "X_train.shape, X_test.shape"
      ],
      "execution_count": null,
      "outputs": [
        {
          "output_type": "execute_result",
          "data": {
            "text/plain": [
              "((272762, 105), (68191, 105))"
            ]
          },
          "metadata": {},
          "execution_count": 9
        }
      ]
    },
    {
      "cell_type": "code",
      "metadata": {
        "colab": {
          "base_uri": "https://localhost:8080/"
        },
        "id": "XENs4LbAeCKf",
        "outputId": "2cc9996f-f1ae-4cae-cbe2-3841aca274d8"
      },
      "source": [
        "len(np.where(Y_train==0)[0]), len(np.where(Y_train==1)[0])"
      ],
      "execution_count": null,
      "outputs": [
        {
          "output_type": "execute_result",
          "data": {
            "text/plain": [
              "(141142, 131620)"
            ]
          },
          "metadata": {},
          "execution_count": 21
        }
      ]
    },
    {
      "cell_type": "markdown",
      "metadata": {
        "id": "VUZYR5DL-lux"
      },
      "source": [
        "<font color=\"red\" size=\"6\">Feature Selection Techniques</font>"
      ]
    },
    {
      "cell_type": "markdown",
      "metadata": {
        "id": "wpGGq90d-wLn"
      },
      "source": [
        "<font color=\"blue\" size=\"4\">ANOVA correlation based feature selection</font>"
      ]
    },
    {
      "cell_type": "code",
      "metadata": {
        "id": "1HaGdCfxV45g"
      },
      "source": [
        "# Feature selection based on \n",
        "k = 40\n",
        "fs = SelectKBest(score_func=f_classif, k=k)\n",
        "fs.fit(X_train, Y_train)\n",
        "X_train, X_test = fs.transform(X_train), fs.transform(X_test)"
      ],
      "execution_count": null,
      "outputs": []
    },
    {
      "cell_type": "markdown",
      "metadata": {
        "id": "rUHkOmBG-472"
      },
      "source": [
        "<font color=\"blue\" size=\"4\">Random-Forest based feature selection</font>"
      ]
    },
    {
      "cell_type": "code",
      "metadata": {
        "id": "fq_Hbhxk3lIA"
      },
      "source": [
        "def random_forest_features(X_train, Y_train):\n",
        "  sel = RandomForestClassifier(n_estimators=20, max_features='log2', class_weight='balanced_subsample', min_samples_split=0.005, max_samples=0.7, oob_score=True, n_jobs=-1, random_state=0)\n",
        "  sel.fit(X_train, Y_train)\n",
        "  return sel.feature_importances_"
      ],
      "execution_count": null,
      "outputs": []
    },
    {
      "cell_type": "code",
      "metadata": {
        "colab": {
          "base_uri": "https://localhost:8080/"
        },
        "id": "hU19q_BR77zO",
        "outputId": "363def2a-9d48-4783-d950-c8b288ec8d21"
      },
      "source": [
        "X_train.shape, X_test.shape"
      ],
      "execution_count": null,
      "outputs": [
        {
          "output_type": "execute_result",
          "data": {
            "text/plain": [
              "((272762, 114), (68191, 114))"
            ]
          },
          "metadata": {
            "tags": []
          },
          "execution_count": 139
        }
      ]
    },
    {
      "cell_type": "code",
      "metadata": {
        "id": "VXRKIur0z73D"
      },
      "source": [
        "cols = random_forest_features(X_train, Y_train)"
      ],
      "execution_count": null,
      "outputs": []
    },
    {
      "cell_type": "code",
      "metadata": {
        "colab": {
          "base_uri": "https://localhost:8080/"
        },
        "id": "2o_M5OwVwjpS",
        "outputId": "88392b6b-e9a3-49b3-94a3-a2acba457d5d"
      },
      "source": [
        "# cols = random_forest_features(X_train, Y_train)\n",
        "thresh = np.mean(cols)\n",
        "ids = np.where(cols >= thresh)[0]\n",
        "# ids = np.argsort(cols)[::-1][:40]\n",
        "IN.columns[ids]"
      ],
      "execution_count": null,
      "outputs": [
        {
          "output_type": "execute_result",
          "data": {
            "text/plain": [
              "Index(['MSW_0_OUT_2', 'MSW_0_OUT_3', 'ASSET_0_OUT_3', 'MSW_1_OUT_3',\n",
              "       'ASSET_1_OUT_1', 'MSW_3_OUT_3', 'MSW_4_OUT_2', 'BF_N_OUT_1',\n",
              "       'BF_N_OUT_2', 'FC_N_OUT_2', 'FC_N_OUT_3', 'MSW_N_OUT_2', 'MSW_N_OUT_3',\n",
              "       'ASSET_N_OUT_3', 'dc_score_none_size_only',\n",
              "       'dc_score_none_size_intensity_only', 'dc_score_none_intensity_only',\n",
              "       'dc_score_log_size_intensity_only', 'dc_score_log_intensity_only',\n",
              "       'dc_score_sqrt_size_intensity_only', 'pop', 'hh', 'log_pop', 'sqrt_pop',\n",
              "       'log_hh', 'sqrt_hh', 'area', 'log_area', 'sqrt_area'],\n",
              "      dtype='object')"
            ]
          },
          "metadata": {
            "tags": []
          },
          "execution_count": 45
        }
      ]
    },
    {
      "cell_type": "code",
      "metadata": {
        "colab": {
          "base_uri": "https://localhost:8080/"
        },
        "id": "tWRYz192uPTQ",
        "outputId": "a9c302d7-5a14-4370-8ad7-327998913dad"
      },
      "source": [
        "X_train, X_test = X_train.iloc[:, ids], X_test.iloc[:, ids]\n",
        "X_train.shape, X_test.shape"
      ],
      "execution_count": null,
      "outputs": [
        {
          "output_type": "execute_result",
          "data": {
            "text/plain": [
              "((272762, 29), (68191, 29))"
            ]
          },
          "metadata": {
            "tags": []
          },
          "execution_count": 46
        }
      ]
    },
    {
      "cell_type": "markdown",
      "metadata": {
        "id": "L_WiCFTH_qxB"
      },
      "source": [
        "<font color=\"blue\" size=\"4\">Top-20 Feature Selection (based on top features selected over all indicators using Random Forest feature selection)</font>"
      ]
    },
    {
      "cell_type": "code",
      "metadata": {
        "colab": {
          "base_uri": "https://localhost:8080/"
        },
        "id": "pVVLHQQokPTf",
        "outputId": "459b63e7-3372-4b1a-edda-785d0007b3ff"
      },
      "source": [
        "# Best features as selected over all the indicators (older version)\n",
        "# cols_best = ['FC_0_OUT_3', 'ASSET_4_OUT_3', 'MSW_N_OUT_3', 'dc_score_log_size_intensity', 'dc_score_sqrt_intensity_only', 'FC_N_OUT_1', 'dc_score_log_size_only', 'dc_score_sqrt_size_intensity', 'FC_N_OUT_2', 'dc_score_sqrt_size_only',  'FC_0_OUT_1', 'MSW_N_OUT_2', 'dc_score_log_intensity_only', 'ASSET_3_OUT_3', 'dc_score_none_size_only', 'ASSET_0_OUT_1', 'dc_score_log_size_intensity_only', 'MSW_0_OUT_3', 'dc_score_none_intensity_only', 'MSW_0_OUT_2']\n",
        "cols_best = []\n",
        "# cols_best.extend(list(joined.columns))\n",
        "X_train, X_test = X_train.loc[:, cols_best], X_test.loc[:, cols_best]\n",
        "X_train.shape, X_test.shape"
      ],
      "execution_count": null,
      "outputs": [
        {
          "output_type": "execute_result",
          "data": {
            "text/plain": [
              "((272762, 9), (68191, 9))"
            ]
          },
          "metadata": {
            "tags": []
          },
          "execution_count": 217
        }
      ]
    },
    {
      "cell_type": "markdown",
      "metadata": {
        "id": "02Alv87JAU7l"
      },
      "source": [
        "<font color=\"red\" size=\"6\">Training Random Forest Classifier</font>"
      ]
    },
    {
      "cell_type": "code",
      "metadata": {
        "id": "d2kQ1UbXvYFW"
      },
      "source": [
        "classifier = RandomForestClassifier(n_estimators=20, max_features='log2', min_samples_split=0.005, class_weight='balanced_subsample', max_samples=0.7, oob_score=True, n_jobs=-1, random_state=0)\n",
        "clf = classifier.fit(X_train, Y_train)"
      ],
      "execution_count": null,
      "outputs": []
    },
    {
      "cell_type": "code",
      "metadata": {
        "colab": {
          "base_uri": "https://localhost:8080/"
        },
        "id": "MhG-q91bvqKP",
        "outputId": "1dcee05e-a651-4635-fea8-3adbcd2206d6"
      },
      "source": [
        "clf.oob_score_"
      ],
      "execution_count": null,
      "outputs": [
        {
          "output_type": "execute_result",
          "data": {
            "text/plain": [
              "0.6827967238838255"
            ]
          },
          "metadata": {
            "tags": []
          },
          "execution_count": 219
        }
      ]
    },
    {
      "cell_type": "code",
      "metadata": {
        "colab": {
          "base_uri": "https://localhost:8080/"
        },
        "id": "nrXDZ7BpG7VC",
        "outputId": "31c70062-6980-44cd-a5da-4307470bb8b7"
      },
      "source": [
        "clf.score(X_train, Y_train)"
      ],
      "execution_count": null,
      "outputs": [
        {
          "output_type": "execute_result",
          "data": {
            "text/plain": [
              "0.6859313247446491"
            ]
          },
          "metadata": {
            "tags": []
          },
          "execution_count": 220
        }
      ]
    },
    {
      "cell_type": "code",
      "metadata": {
        "colab": {
          "base_uri": "https://localhost:8080/"
        },
        "id": "hFNHSUnAG-zH",
        "outputId": "f449f8b1-aa7d-4903-de75-6d1aa33204df"
      },
      "source": [
        "clf.score(X_test, Y_test)"
      ],
      "execution_count": null,
      "outputs": [
        {
          "output_type": "execute_result",
          "data": {
            "text/plain": [
              "0.6819228343916353"
            ]
          },
          "metadata": {
            "tags": []
          },
          "execution_count": 221
        }
      ]
    },
    {
      "cell_type": "code",
      "metadata": {
        "colab": {
          "base_uri": "https://localhost:8080/",
          "height": 279
        },
        "id": "jMsdcoIJfg2W",
        "outputId": "06b6cac3-b0fe-4a58-f2e2-7d512fa55128"
      },
      "source": [
        "plot_confusion_matrix(clf, X_test, Y_test, normalize='true')\n",
        "plt.show()"
      ],
      "execution_count": null,
      "outputs": [
        {
          "output_type": "display_data",
          "data": {
            "image/png": "[encoded data removed]",
            "text/plain": [
              "<Figure size 432x288 with 2 Axes>"
            ]
          },
          "metadata": {
            "tags": [],
            "needs_background": "light"
          }
        }
      ]
    },
    {
      "cell_type": "markdown",
      "metadata": {
        "id": "ZQKWK4VDAbR7"
      },
      "source": [
        "<font color=\"red\" size=\"6\">Indicator-wise Precision/Recall/F1-Score</font>"
      ]
    },
    {
      "cell_type": "code",
      "metadata": {
        "colab": {
          "base_uri": "https://localhost:8080/"
        },
        "id": "ywctxDBc8x1Z",
        "outputId": "3872f494-ab60-4451-9d48-a15fcb9e8074"
      },
      "source": [
        "#PRIMARY SCHOOLS\n",
        "print(classification_report(Y_test, clf.predict(X_test)))"
      ],
      "execution_count": null,
      "outputs": [
        {
          "output_type": "stream",
          "text": [
            "              precision    recall  f1-score   support\n",
            "\n",
            "         0.0       0.70      0.69      0.69     35943\n",
            "         1.0       0.66      0.68      0.67     32248\n",
            "\n",
            "    accuracy                           0.68     68191\n",
            "   macro avg       0.68      0.68      0.68     68191\n",
            "weighted avg       0.68      0.68      0.68     68191\n",
            "\n"
          ],
          "name": "stdout"
        }
      ]
    },
    {
      "cell_type": "code",
      "metadata": {
        "colab": {
          "base_uri": "https://localhost:8080/"
        },
        "id": "EG3RUrpwwR_e",
        "outputId": "0996b5fe-971a-4741-81ec-8c30c9b6a4fe"
      },
      "source": [
        "#PRIMARY SCHOOLS\n",
        "print(classification_report(Y_test, clf.predict(X_test)))"
      ],
      "execution_count": null,
      "outputs": [
        {
          "output_type": "stream",
          "text": [
            "              precision    recall  f1-score   support\n",
            "\n",
            "         0.0       0.89      0.76      0.82     48142\n",
            "         1.0       0.57      0.77      0.66     20049\n",
            "\n",
            "    accuracy                           0.76     68191\n",
            "   macro avg       0.73      0.77      0.74     68191\n",
            "weighted avg       0.80      0.76      0.77     68191\n",
            "\n"
          ],
          "name": "stdout"
        }
      ]
    },
    {
      "cell_type": "code",
      "metadata": {
        "colab": {
          "base_uri": "https://localhost:8080/"
        },
        "id": "VIi1JbBZew-F",
        "outputId": "19653f5e-35e2-4b8e-e900-d860cade8663"
      },
      "source": [
        "#MIDDLE SCHOOLS\n",
        "print(classification_report(Y_test, clf.predict(X_test)))"
      ],
      "execution_count": null,
      "outputs": [
        {
          "output_type": "stream",
          "text": [
            "              precision    recall  f1-score   support\n",
            "\n",
            "         0.0       0.79      0.76      0.78     35286\n",
            "         1.0       0.75      0.78      0.77     32905\n",
            "\n",
            "    accuracy                           0.77     68191\n",
            "   macro avg       0.77      0.77      0.77     68191\n",
            "weighted avg       0.77      0.77      0.77     68191\n",
            "\n"
          ],
          "name": "stdout"
        }
      ]
    },
    {
      "cell_type": "code",
      "metadata": {
        "colab": {
          "base_uri": "https://localhost:8080/"
        },
        "id": "8-lP3m_6fYz8",
        "outputId": "fbdff476-e7db-42a3-9899-b69a4eedce99"
      },
      "source": [
        "#COLLEGES\n",
        "print(classification_report(Y_test, clf.predict(X_test)))"
      ],
      "execution_count": null,
      "outputs": [
        {
          "output_type": "stream",
          "text": [
            "              precision    recall  f1-score   support\n",
            "\n",
            "         0.0       0.98      0.81      0.89     65513\n",
            "         1.0       0.13      0.67      0.22      2678\n",
            "\n",
            "    accuracy                           0.81     68191\n",
            "   macro avg       0.56      0.74      0.55     68191\n",
            "weighted avg       0.95      0.81      0.86     68191\n",
            "\n"
          ],
          "name": "stdout"
        }
      ]
    },
    {
      "cell_type": "code",
      "metadata": {
        "colab": {
          "base_uri": "https://localhost:8080/"
        },
        "id": "TX4HU30Yf75H",
        "outputId": "55c2bf6e-b375-4642-ef59-617598aac271"
      },
      "source": [
        "#ALLOPATHIC HOSPITALS\n",
        "print(classification_report(Y_test, clf.predict(X_test)))"
      ],
      "execution_count": null,
      "outputs": [
        {
          "output_type": "stream",
          "text": [
            "              precision    recall  f1-score   support\n",
            "\n",
            "         0.0       1.00      0.88      0.93     67619\n",
            "         1.0       0.04      0.66      0.08       572\n",
            "\n",
            "    accuracy                           0.88     68191\n",
            "   macro avg       0.52      0.77      0.51     68191\n",
            "weighted avg       0.99      0.88      0.93     68191\n",
            "\n"
          ],
          "name": "stdout"
        }
      ]
    },
    {
      "cell_type": "code",
      "metadata": {
        "colab": {
          "base_uri": "https://localhost:8080/"
        },
        "id": "dc97iNGTgMyJ",
        "outputId": "bd87da29-df77-49b5-f0d1-6a413e45be09"
      },
      "source": [
        "#PRIMARY HEALTH CENTRES\n",
        "print(classification_report(Y_test, clf.predict(X_test)))"
      ],
      "execution_count": null,
      "outputs": [
        {
          "output_type": "stream",
          "text": [
            "              precision    recall  f1-score   support\n",
            "\n",
            "         0.0       0.99      0.80      0.89     65899\n",
            "         1.0       0.12      0.74      0.20      2292\n",
            "\n",
            "    accuracy                           0.80     68191\n",
            "   macro avg       0.55      0.77      0.54     68191\n",
            "weighted avg       0.96      0.80      0.86     68191\n",
            "\n"
          ],
          "name": "stdout"
        }
      ]
    },
    {
      "cell_type": "code",
      "metadata": {
        "colab": {
          "base_uri": "https://localhost:8080/"
        },
        "id": "9jiSHcZPgafI",
        "outputId": "f4e16b63-45b3-4158-8a5c-1628b4037830"
      },
      "source": [
        "#MATERNITY AND CHILD-WELFARE CENTRES\n",
        "print(classification_report(Y_test, clf.predict(X_test)))"
      ],
      "execution_count": null,
      "outputs": [
        {
          "output_type": "stream",
          "text": [
            "              precision    recall  f1-score   support\n",
            "\n",
            "         0.0       0.98      0.78      0.87     64287\n",
            "         1.0       0.17      0.77      0.28      3904\n",
            "\n",
            "    accuracy                           0.78     68191\n",
            "   macro avg       0.58      0.77      0.57     68191\n",
            "weighted avg       0.94      0.78      0.83     68191\n",
            "\n"
          ],
          "name": "stdout"
        }
      ]
    },
    {
      "cell_type": "code",
      "metadata": {
        "colab": {
          "base_uri": "https://localhost:8080/"
        },
        "id": "JGqd9OJY_fHd",
        "outputId": "d90b2067-e85f-4fd2-886d-f5a2323b6014"
      },
      "source": [
        "#POST OFFICE\n",
        "print(classification_report(Y_test, clf.predict(X_test)))"
      ],
      "execution_count": null,
      "outputs": [
        {
          "output_type": "stream",
          "text": [
            "              precision    recall  f1-score   support\n",
            "\n",
            "         0.0       0.96      0.77      0.86     61040\n",
            "         1.0       0.28      0.75      0.41      7151\n",
            "\n",
            "    accuracy                           0.77     68191\n",
            "   macro avg       0.62      0.76      0.63     68191\n",
            "weighted avg       0.89      0.77      0.81     68191\n",
            "\n"
          ],
          "name": "stdout"
        }
      ]
    },
    {
      "cell_type": "code",
      "metadata": {
        "colab": {
          "base_uri": "https://localhost:8080/"
        },
        "id": "IhlGGARj36vD",
        "outputId": "8912e517-bdfa-4f4c-f572-0cc27e3ae5e0"
      },
      "source": [
        "#LANDLINE\n",
        "print(classification_report(Y_test, clf.predict(X_test)))"
      ],
      "execution_count": null,
      "outputs": [
        {
          "output_type": "stream",
          "text": [
            "              precision    recall  f1-score   support\n",
            "\n",
            "         0.0       0.77      0.83      0.80     35943\n",
            "         1.0       0.79      0.72      0.76     32248\n",
            "\n",
            "    accuracy                           0.78     68191\n",
            "   macro avg       0.78      0.78      0.78     68191\n",
            "weighted avg       0.78      0.78      0.78     68191\n",
            "\n"
          ],
          "name": "stdout"
        }
      ]
    },
    {
      "cell_type": "code",
      "metadata": {
        "colab": {
          "base_uri": "https://localhost:8080/"
        },
        "id": "CjbWoIXx4WVg",
        "outputId": "c8504dcd-57da-4f67-8ce9-472668d14018"
      },
      "source": [
        "#BUS SERVICES\n",
        "print(classification_report(Y_test, clf.predict(X_test)))"
      ],
      "execution_count": null,
      "outputs": [
        {
          "output_type": "stream",
          "text": [
            "              precision    recall  f1-score   support\n",
            "\n",
            "         0.0       0.77      0.81      0.79     37485\n",
            "         1.0       0.75      0.70      0.73     30706\n",
            "\n",
            "    accuracy                           0.76     68191\n",
            "   macro avg       0.76      0.76      0.76     68191\n",
            "weighted avg       0.76      0.76      0.76     68191\n",
            "\n"
          ],
          "name": "stdout"
        }
      ]
    },
    {
      "cell_type": "code",
      "metadata": {
        "colab": {
          "base_uri": "https://localhost:8080/"
        },
        "id": "tUANlruY_4aI",
        "outputId": "fe031733-d5c2-402c-c966-f8182212e6ce"
      },
      "source": [
        "#RAILWAY SERVICES\n",
        "print(classification_report(Y_test, clf.predict(X_test)))"
      ],
      "execution_count": null,
      "outputs": [
        {
          "output_type": "stream",
          "text": [
            "              precision    recall  f1-score   support\n",
            "\n",
            "         0.0       0.99      0.76      0.86     66607\n",
            "         1.0       0.05      0.55      0.10      1584\n",
            "\n",
            "    accuracy                           0.76     68191\n",
            "   macro avg       0.52      0.65      0.48     68191\n",
            "weighted avg       0.96      0.76      0.84     68191\n",
            "\n"
          ],
          "name": "stdout"
        }
      ]
    },
    {
      "cell_type": "code",
      "metadata": {
        "colab": {
          "base_uri": "https://localhost:8080/"
        },
        "id": "4oewHUD1BPKl",
        "outputId": "af9a1b1e-57b7-4504-f4cd-d6099bc663fc"
      },
      "source": [
        "#CANALS\n",
        "print(classification_report(Y_test, clf.predict(X_test)))"
      ],
      "execution_count": null,
      "outputs": [
        {
          "output_type": "stream",
          "text": [
            "              precision    recall  f1-score   support\n",
            "\n",
            "         0.0       0.97      0.72      0.83     62528\n",
            "         1.0       0.20      0.77      0.31      5663\n",
            "\n",
            "    accuracy                           0.72     68191\n",
            "   macro avg       0.58      0.74      0.57     68191\n",
            "weighted avg       0.91      0.72      0.78     68191\n",
            "\n"
          ],
          "name": "stdout"
        }
      ]
    },
    {
      "cell_type": "code",
      "metadata": {
        "colab": {
          "base_uri": "https://localhost:8080/"
        },
        "id": "AJEy0qzGBnaf",
        "outputId": "7f359e5a-a58a-4fb9-9cc7-04655d98477a"
      },
      "source": [
        "#SPORTS CLUBS\n",
        "print(classification_report(Y_test, clf.predict(X_test)))"
      ],
      "execution_count": null,
      "outputs": [
        {
          "output_type": "stream",
          "text": [
            "              precision    recall  f1-score   support\n",
            "\n",
            "         0.0       0.96      0.72      0.83     58893\n",
            "         1.0       0.32      0.81      0.46      9298\n",
            "\n",
            "    accuracy                           0.74     68191\n",
            "   macro avg       0.64      0.77      0.64     68191\n",
            "weighted avg       0.87      0.74      0.78     68191\n",
            "\n"
          ],
          "name": "stdout"
        }
      ]
    },
    {
      "cell_type": "code",
      "metadata": {
        "colab": {
          "base_uri": "https://localhost:8080/"
        },
        "id": "VLzlgcTiCh9e",
        "outputId": "f2576e13-d77c-43d6-d430-c8120d526cf1"
      },
      "source": [
        "#VIDEO HALLS\n",
        "print(classification_report(Y_test, clf.predict(X_test)))"
      ],
      "execution_count": null,
      "outputs": [
        {
          "output_type": "stream",
          "text": [
            "              precision    recall  f1-score   support\n",
            "\n",
            "         0.0       0.99      0.79      0.88     64319\n",
            "         1.0       0.20      0.85      0.32      3872\n",
            "\n",
            "    accuracy                           0.79     68191\n",
            "   macro avg       0.59      0.82      0.60     68191\n",
            "weighted avg       0.94      0.79      0.85     68191\n",
            "\n"
          ],
          "name": "stdout"
        }
      ]
    },
    {
      "cell_type": "markdown",
      "metadata": {
        "id": "bbN9IAXiAhhC"
      },
      "source": [
        "<font color=\"red\" size=\"6\">Save Model</font>"
      ]
    },
    {
      "cell_type": "code",
      "metadata": {
        "id": "8RtlOC8nvoo1"
      },
      "source": [
        "pickle.dump(clf, open('/content/drive/MyDrive/Input_output_regression/Models/clf_video_top20_traincombval_areapop.pickle','wb'))"
      ],
      "execution_count": null,
      "outputs": []
    }
  ]
}