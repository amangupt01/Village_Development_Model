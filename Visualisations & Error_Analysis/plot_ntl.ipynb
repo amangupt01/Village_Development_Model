{
 "cells": [
  {
   "cell_type": "code",
   "execution_count": 1,
   "metadata": {},
   "outputs": [],
   "source": [
    "import pandas as pd\n",
    "df_2001 = pd.read_pickle('ntl_data/data_2001.pickle')\n",
    "df_2011 = pd.read_pickle('ntl_data/data_2011.pickle')\n",
    "df_2019 = pd.read_pickle('ntl_data/data_2019.pickle')"
   ]
  },
  {
   "cell_type": "code",
   "execution_count": 2,
   "metadata": {},
   "outputs": [
    {
     "data": {
      "text/html": [
       "<div>\n",
       "<style scoped>\n",
       "    .dataframe tbody tr th:only-of-type {\n",
       "        vertical-align: middle;\n",
       "    }\n",
       "\n",
       "    .dataframe tbody tr th {\n",
       "        vertical-align: top;\n",
       "    }\n",
       "\n",
       "    .dataframe thead th {\n",
       "        text-align: right;\n",
       "    }\n",
       "</style>\n",
       "<table border=\"1\" class=\"dataframe\">\n",
       "  <thead>\n",
       "    <tr style=\"text-align: right;\">\n",
       "      <th></th>\n",
       "      <th>dc_score_none_none</th>\n",
       "      <th>dc_score_none_size</th>\n",
       "      <th>dc_score_none_size_intensity</th>\n",
       "      <th>dc_score_none_intensity</th>\n",
       "      <th>dc_score_log_none</th>\n",
       "      <th>dc_score_log_size</th>\n",
       "      <th>dc_score_log_size_intensity</th>\n",
       "      <th>dc_score_log_intensity</th>\n",
       "      <th>dc_score_sqrt_none</th>\n",
       "      <th>dc_score_sqrt_size</th>\n",
       "      <th>...</th>\n",
       "      <th>dc_score_sqrt_intensity</th>\n",
       "      <th>dc_score_none_size_only</th>\n",
       "      <th>dc_score_none_size_intensity_only</th>\n",
       "      <th>dc_score_none_intensity_only</th>\n",
       "      <th>dc_score_log_size_only</th>\n",
       "      <th>dc_score_log_size_intensity_only</th>\n",
       "      <th>dc_score_log_intensity_only</th>\n",
       "      <th>dc_score_sqrt_size_only</th>\n",
       "      <th>dc_score_sqrt_size_intensity_only</th>\n",
       "      <th>dc_score_sqrt_intensity_only</th>\n",
       "    </tr>\n",
       "    <tr>\n",
       "      <th>village_id</th>\n",
       "      <th></th>\n",
       "      <th></th>\n",
       "      <th></th>\n",
       "      <th></th>\n",
       "      <th></th>\n",
       "      <th></th>\n",
       "      <th></th>\n",
       "      <th></th>\n",
       "      <th></th>\n",
       "      <th></th>\n",
       "      <th></th>\n",
       "      <th></th>\n",
       "      <th></th>\n",
       "      <th></th>\n",
       "      <th></th>\n",
       "      <th></th>\n",
       "      <th></th>\n",
       "      <th></th>\n",
       "      <th></th>\n",
       "      <th></th>\n",
       "      <th></th>\n",
       "    </tr>\n",
       "  </thead>\n",
       "  <tbody>\n",
       "    <tr>\n",
       "      <th>628551.0</th>\n",
       "      <td>0.171816</td>\n",
       "      <td>5.462297</td>\n",
       "      <td>117.456324</td>\n",
       "      <td>1.967809</td>\n",
       "      <td>-1.761331</td>\n",
       "      <td>1.697869</td>\n",
       "      <td>4.766067</td>\n",
       "      <td>0.676921</td>\n",
       "      <td>0.414507</td>\n",
       "      <td>2.337156</td>\n",
       "      <td>...</td>\n",
       "      <td>1.402786</td>\n",
       "      <td>343.894595</td>\n",
       "      <td>31844.998487</td>\n",
       "      <td>16.77375</td>\n",
       "      <td>5.840335</td>\n",
       "      <td>10.368636</td>\n",
       "      <td>2.819815</td>\n",
       "      <td>18.544395</td>\n",
       "      <td>178.451670</td>\n",
       "      <td>4.095577</td>\n",
       "    </tr>\n",
       "    <tr>\n",
       "      <th>628556.0</th>\n",
       "      <td>0.105127</td>\n",
       "      <td>5.589241</td>\n",
       "      <td>119.686749</td>\n",
       "      <td>1.761933</td>\n",
       "      <td>-2.252584</td>\n",
       "      <td>1.720844</td>\n",
       "      <td>4.784878</td>\n",
       "      <td>0.566412</td>\n",
       "      <td>0.324233</td>\n",
       "      <td>2.364158</td>\n",
       "      <td>...</td>\n",
       "      <td>1.327378</td>\n",
       "      <td>343.894595</td>\n",
       "      <td>4993.631660</td>\n",
       "      <td>16.76000</td>\n",
       "      <td>5.840335</td>\n",
       "      <td>8.515919</td>\n",
       "      <td>2.818995</td>\n",
       "      <td>18.544395</td>\n",
       "      <td>70.665633</td>\n",
       "      <td>4.093898</td>\n",
       "    </tr>\n",
       "    <tr>\n",
       "      <th>628553.0</th>\n",
       "      <td>0.266800</td>\n",
       "      <td>5.594609</td>\n",
       "      <td>119.476397</td>\n",
       "      <td>2.660246</td>\n",
       "      <td>-1.321256</td>\n",
       "      <td>1.721803</td>\n",
       "      <td>4.783119</td>\n",
       "      <td>0.978419</td>\n",
       "      <td>0.516527</td>\n",
       "      <td>2.365293</td>\n",
       "      <td>...</td>\n",
       "      <td>1.631026</td>\n",
       "      <td>343.894595</td>\n",
       "      <td>31844.998487</td>\n",
       "      <td>16.77375</td>\n",
       "      <td>5.840335</td>\n",
       "      <td>10.368636</td>\n",
       "      <td>2.819815</td>\n",
       "      <td>18.544395</td>\n",
       "      <td>178.451670</td>\n",
       "      <td>4.095577</td>\n",
       "    </tr>\n",
       "    <tr>\n",
       "      <th>628554.0</th>\n",
       "      <td>0.143263</td>\n",
       "      <td>5.733116</td>\n",
       "      <td>118.576502</td>\n",
       "      <td>1.818145</td>\n",
       "      <td>-1.943072</td>\n",
       "      <td>1.746259</td>\n",
       "      <td>4.775558</td>\n",
       "      <td>0.597817</td>\n",
       "      <td>0.378501</td>\n",
       "      <td>2.394393</td>\n",
       "      <td>...</td>\n",
       "      <td>1.348386</td>\n",
       "      <td>343.894595</td>\n",
       "      <td>4993.631660</td>\n",
       "      <td>16.76000</td>\n",
       "      <td>5.840335</td>\n",
       "      <td>8.515919</td>\n",
       "      <td>2.818995</td>\n",
       "      <td>18.544395</td>\n",
       "      <td>70.665633</td>\n",
       "      <td>4.093898</td>\n",
       "    </tr>\n",
       "    <tr>\n",
       "      <th>628632.0</th>\n",
       "      <td>0.081111</td>\n",
       "      <td>5.824771</td>\n",
       "      <td>132.505547</td>\n",
       "      <td>1.359426</td>\n",
       "      <td>-2.511932</td>\n",
       "      <td>1.762120</td>\n",
       "      <td>4.886625</td>\n",
       "      <td>0.307063</td>\n",
       "      <td>0.284801</td>\n",
       "      <td>2.413456</td>\n",
       "      <td>...</td>\n",
       "      <td>1.165944</td>\n",
       "      <td>343.894595</td>\n",
       "      <td>4993.631660</td>\n",
       "      <td>16.76000</td>\n",
       "      <td>5.840335</td>\n",
       "      <td>8.515919</td>\n",
       "      <td>2.818995</td>\n",
       "      <td>18.544395</td>\n",
       "      <td>70.665633</td>\n",
       "      <td>4.093898</td>\n",
       "    </tr>\n",
       "  </tbody>\n",
       "</table>\n",
       "<p>5 rows × 21 columns</p>\n",
       "</div>"
      ],
      "text/plain": [
       "            dc_score_none_none  dc_score_none_size  \\\n",
       "village_id                                           \n",
       "628551.0              0.171816            5.462297   \n",
       "628556.0              0.105127            5.589241   \n",
       "628553.0              0.266800            5.594609   \n",
       "628554.0              0.143263            5.733116   \n",
       "628632.0              0.081111            5.824771   \n",
       "\n",
       "            dc_score_none_size_intensity  dc_score_none_intensity  \\\n",
       "village_id                                                          \n",
       "628551.0                      117.456324                 1.967809   \n",
       "628556.0                      119.686749                 1.761933   \n",
       "628553.0                      119.476397                 2.660246   \n",
       "628554.0                      118.576502                 1.818145   \n",
       "628632.0                      132.505547                 1.359426   \n",
       "\n",
       "            dc_score_log_none  dc_score_log_size  dc_score_log_size_intensity  \\\n",
       "village_id                                                                      \n",
       "628551.0            -1.761331           1.697869                     4.766067   \n",
       "628556.0            -2.252584           1.720844                     4.784878   \n",
       "628553.0            -1.321256           1.721803                     4.783119   \n",
       "628554.0            -1.943072           1.746259                     4.775558   \n",
       "628632.0            -2.511932           1.762120                     4.886625   \n",
       "\n",
       "            dc_score_log_intensity  dc_score_sqrt_none  dc_score_sqrt_size  \\\n",
       "village_id                                                                   \n",
       "628551.0                  0.676921            0.414507            2.337156   \n",
       "628556.0                  0.566412            0.324233            2.364158   \n",
       "628553.0                  0.978419            0.516527            2.365293   \n",
       "628554.0                  0.597817            0.378501            2.394393   \n",
       "628632.0                  0.307063            0.284801            2.413456   \n",
       "\n",
       "            ...  dc_score_sqrt_intensity  dc_score_none_size_only  \\\n",
       "village_id  ...                                                     \n",
       "628551.0    ...                 1.402786               343.894595   \n",
       "628556.0    ...                 1.327378               343.894595   \n",
       "628553.0    ...                 1.631026               343.894595   \n",
       "628554.0    ...                 1.348386               343.894595   \n",
       "628632.0    ...                 1.165944               343.894595   \n",
       "\n",
       "            dc_score_none_size_intensity_only  dc_score_none_intensity_only  \\\n",
       "village_id                                                                    \n",
       "628551.0                         31844.998487                      16.77375   \n",
       "628556.0                          4993.631660                      16.76000   \n",
       "628553.0                         31844.998487                      16.77375   \n",
       "628554.0                          4993.631660                      16.76000   \n",
       "628632.0                          4993.631660                      16.76000   \n",
       "\n",
       "            dc_score_log_size_only  dc_score_log_size_intensity_only  \\\n",
       "village_id                                                             \n",
       "628551.0                  5.840335                         10.368636   \n",
       "628556.0                  5.840335                          8.515919   \n",
       "628553.0                  5.840335                         10.368636   \n",
       "628554.0                  5.840335                          8.515919   \n",
       "628632.0                  5.840335                          8.515919   \n",
       "\n",
       "            dc_score_log_intensity_only  dc_score_sqrt_size_only  \\\n",
       "village_id                                                         \n",
       "628551.0                       2.819815                18.544395   \n",
       "628556.0                       2.818995                18.544395   \n",
       "628553.0                       2.819815                18.544395   \n",
       "628554.0                       2.818995                18.544395   \n",
       "628632.0                       2.818995                18.544395   \n",
       "\n",
       "            dc_score_sqrt_size_intensity_only  dc_score_sqrt_intensity_only  \n",
       "village_id                                                                   \n",
       "628551.0                           178.451670                      4.095577  \n",
       "628556.0                            70.665633                      4.093898  \n",
       "628553.0                           178.451670                      4.095577  \n",
       "628554.0                            70.665633                      4.093898  \n",
       "628632.0                            70.665633                      4.093898  \n",
       "\n",
       "[5 rows x 21 columns]"
      ]
     },
     "execution_count": 2,
     "metadata": {},
     "output_type": "execute_result"
    }
   ],
   "source": [
    "df_2019.head()"
   ]
  },
  {
   "cell_type": "code",
   "execution_count": 3,
   "metadata": {},
   "outputs": [
    {
     "data": {
      "text/html": [
       "<div>\n",
       "<style scoped>\n",
       "    .dataframe tbody tr th:only-of-type {\n",
       "        vertical-align: middle;\n",
       "    }\n",
       "\n",
       "    .dataframe tbody tr th {\n",
       "        vertical-align: top;\n",
       "    }\n",
       "\n",
       "    .dataframe thead th {\n",
       "        text-align: right;\n",
       "    }\n",
       "</style>\n",
       "<table border=\"1\" class=\"dataframe\">\n",
       "  <thead>\n",
       "    <tr style=\"text-align: right;\">\n",
       "      <th></th>\n",
       "      <th>dc_score_none_none</th>\n",
       "      <th>dc_score_none_size</th>\n",
       "      <th>dc_score_none_size_intensity</th>\n",
       "      <th>dc_score_none_intensity</th>\n",
       "      <th>dc_score_log_none</th>\n",
       "      <th>dc_score_log_size</th>\n",
       "      <th>dc_score_log_size_intensity</th>\n",
       "      <th>dc_score_log_intensity</th>\n",
       "      <th>dc_score_sqrt_none</th>\n",
       "      <th>dc_score_sqrt_size</th>\n",
       "      <th>...</th>\n",
       "      <th>dc_score_sqrt_intensity</th>\n",
       "      <th>dc_score_none_size_only</th>\n",
       "      <th>dc_score_none_size_intensity_only</th>\n",
       "      <th>dc_score_none_intensity_only</th>\n",
       "      <th>dc_score_log_size_only</th>\n",
       "      <th>dc_score_log_size_intensity_only</th>\n",
       "      <th>dc_score_log_intensity_only</th>\n",
       "      <th>dc_score_sqrt_size_only</th>\n",
       "      <th>dc_score_sqrt_size_intensity_only</th>\n",
       "      <th>dc_score_sqrt_intensity_only</th>\n",
       "    </tr>\n",
       "    <tr>\n",
       "      <th>village_id</th>\n",
       "      <th></th>\n",
       "      <th></th>\n",
       "      <th></th>\n",
       "      <th></th>\n",
       "      <th></th>\n",
       "      <th></th>\n",
       "      <th></th>\n",
       "      <th></th>\n",
       "      <th></th>\n",
       "      <th></th>\n",
       "      <th></th>\n",
       "      <th></th>\n",
       "      <th></th>\n",
       "      <th></th>\n",
       "      <th></th>\n",
       "      <th></th>\n",
       "      <th></th>\n",
       "      <th></th>\n",
       "      <th></th>\n",
       "      <th></th>\n",
       "      <th></th>\n",
       "    </tr>\n",
       "  </thead>\n",
       "  <tbody>\n",
       "    <tr>\n",
       "      <th>362300.0</th>\n",
       "      <td>0.055888</td>\n",
       "      <td>6.425809</td>\n",
       "      <td>34.022699</td>\n",
       "      <td>0.446236</td>\n",
       "      <td>-2.884397</td>\n",
       "      <td>1.860323</td>\n",
       "      <td>3.527028</td>\n",
       "      <td>-0.806907</td>\n",
       "      <td>0.236407</td>\n",
       "      <td>2.534918</td>\n",
       "      <td>...</td>\n",
       "      <td>0.668009</td>\n",
       "      <td>1268.879142</td>\n",
       "      <td>2673.991363</td>\n",
       "      <td>10.691966</td>\n",
       "      <td>7.145889</td>\n",
       "      <td>7.891328</td>\n",
       "      <td>2.369493</td>\n",
       "      <td>35.62133</td>\n",
       "      <td>51.71065</td>\n",
       "      <td>3.269857</td>\n",
       "    </tr>\n",
       "  </tbody>\n",
       "</table>\n",
       "<p>1 rows × 21 columns</p>\n",
       "</div>"
      ],
      "text/plain": [
       "            dc_score_none_none  dc_score_none_size  \\\n",
       "village_id                                           \n",
       "362300.0              0.055888            6.425809   \n",
       "\n",
       "            dc_score_none_size_intensity  dc_score_none_intensity  \\\n",
       "village_id                                                          \n",
       "362300.0                       34.022699                 0.446236   \n",
       "\n",
       "            dc_score_log_none  dc_score_log_size  dc_score_log_size_intensity  \\\n",
       "village_id                                                                      \n",
       "362300.0            -2.884397           1.860323                     3.527028   \n",
       "\n",
       "            dc_score_log_intensity  dc_score_sqrt_none  dc_score_sqrt_size  \\\n",
       "village_id                                                                   \n",
       "362300.0                 -0.806907            0.236407            2.534918   \n",
       "\n",
       "            ...  dc_score_sqrt_intensity  dc_score_none_size_only  \\\n",
       "village_id  ...                                                     \n",
       "362300.0    ...                 0.668009              1268.879142   \n",
       "\n",
       "            dc_score_none_size_intensity_only  dc_score_none_intensity_only  \\\n",
       "village_id                                                                    \n",
       "362300.0                          2673.991363                     10.691966   \n",
       "\n",
       "            dc_score_log_size_only  dc_score_log_size_intensity_only  \\\n",
       "village_id                                                             \n",
       "362300.0                  7.145889                          7.891328   \n",
       "\n",
       "            dc_score_log_intensity_only  dc_score_sqrt_size_only  \\\n",
       "village_id                                                         \n",
       "362300.0                       2.369493                 35.62133   \n",
       "\n",
       "            dc_score_sqrt_size_intensity_only  dc_score_sqrt_intensity_only  \n",
       "village_id                                                                   \n",
       "362300.0                             51.71065                      3.269857  \n",
       "\n",
       "[1 rows x 21 columns]"
      ]
     },
     "execution_count": 3,
     "metadata": {},
     "output_type": "execute_result"
    }
   ],
   "source": [
    "df_2019.loc[df_2019.index==362300.0]"
   ]
  },
  {
   "cell_type": "code",
   "execution_count": 4,
   "metadata": {},
   "outputs": [
    {
     "data": {
      "text/plain": [
       "count    345511.000000\n",
       "mean          6.182070\n",
       "std           4.141515\n",
       "min           1.017349\n",
       "25%           3.268593\n",
       "50%           4.357221\n",
       "75%           8.362519\n",
       "max          16.454483\n",
       "Name: dc_score_sqrt_intensity_only, dtype: float64"
      ]
     },
     "execution_count": 4,
     "metadata": {},
     "output_type": "execute_result"
    }
   ],
   "source": [
    "df_2019['dc_score_sqrt_intensity_only'].describe()"
   ]
  },
  {
   "cell_type": "code",
   "execution_count": 5,
   "metadata": {},
   "outputs": [
    {
     "name": "stdout",
     "output_type": "stream",
     "text": [
      "3.552765513195044 6.021679613064468\n"
     ]
    }
   ],
   "source": [
    "l = list(df_2019['dc_score_sqrt_intensity_only'])\n",
    "l.sort()\n",
    "a = l[len(l)//3]\n",
    "b = l[len(l)*2//3]\n",
    "print(a,b)"
   ]
  },
  {
   "cell_type": "code",
   "execution_count": 6,
   "metadata": {},
   "outputs": [],
   "source": [
    "df_2019['level'] = 0"
   ]
  },
  {
   "cell_type": "code",
   "execution_count": 7,
   "metadata": {},
   "outputs": [
    {
     "data": {
      "text/plain": [
       "count    345511.0\n",
       "mean          0.0\n",
       "std           0.0\n",
       "min           0.0\n",
       "25%           0.0\n",
       "50%           0.0\n",
       "75%           0.0\n",
       "max           0.0\n",
       "Name: level, dtype: float64"
      ]
     },
     "execution_count": 7,
     "metadata": {},
     "output_type": "execute_result"
    }
   ],
   "source": [
    "df_2019['level'].describe()"
   ]
  },
  {
   "cell_type": "code",
   "execution_count": 8,
   "metadata": {},
   "outputs": [],
   "source": [
    "def level_decider(a,b,row):\n",
    "    if row['dc_score_sqrt_intensity_only'] < a:\n",
    "        return 0\n",
    "    if row['dc_score_sqrt_intensity_only'] > b:\n",
    "        return 2\n",
    "    return 1\n",
    "\n",
    "def generate_level(df):\n",
    "    l = list(df['dc_score_sqrt_intensity_only'])\n",
    "    l.sort()\n",
    "    a = l[len(l)//3]\n",
    "    b = l[len(l)*2//3]\n",
    "    df['level'] = df.apply( lambda row : level_decider(a,b,row), axis=1)\n",
    "\n",
    "\n",
    "    "
   ]
  },
  {
   "cell_type": "code",
   "execution_count": 9,
   "metadata": {},
   "outputs": [],
   "source": [
    "generate_level(df_2019)\n",
    "generate_level(df_2001)\n",
    "generate_level(df_2011)"
   ]
  },
  {
   "cell_type": "code",
   "execution_count": 11,
   "metadata": {},
   "outputs": [],
   "source": [
    "def adi_dict(df):\n",
    "    dict_out = {}\n",
    "    for i in df.iterrows():\n",
    "        # print(i[0],type(i[0]))\n",
    "        dict_out[int(i[0])] = i[1]['level']\n",
    "    return dict_out"
   ]
  },
  {
   "cell_type": "code",
   "execution_count": 12,
   "metadata": {},
   "outputs": [],
   "source": [
    "dict_2001 = adi_dict(df_2001)\n",
    "dict_2011 = adi_dict(df_2011)\n",
    "dict_2019 = adi_dict(df_2019)"
   ]
  },
  {
   "cell_type": "code",
   "execution_count": 13,
   "metadata": {},
   "outputs": [],
   "source": [
    "import json\n",
    "def Village_Selector(state_geojson, dist_name, dist_id, year, adi_dict):\n",
    "    output = {}\n",
    "    output['type'] = state_geojson['type']\n",
    "    output['crs'] = state_geojson['crs']\n",
    "    output['features'] = []\n",
    "    count = 0\n",
    "    c_min, c_med, c_high = 0,0,0\n",
    "    for i in range(len(state_geojson[\"features\"])):\n",
    "        if state_geojson[\"features\"][i]['properties']['pc11_district_id']==dist_id:\n",
    "            count +=1\n",
    "            village_code = int(state_geojson[\"features\"][i]['properties']['pc11_village_id'])\n",
    "            # print(len(adi_dict))\n",
    "            if village_code in adi_dict:\n",
    "                adi = adi_dict[village_code]\n",
    "                if (adi==1) :\n",
    "                    state_geojson[\"features\"][i]['properties'][\"fill\"] = \"#ffff00\"\n",
    "                    c_med +=1\n",
    "                elif(adi==0):\n",
    "                    state_geojson[\"features\"][i]['properties'][\"fill\"] = \"#ff0000\"\n",
    "                    c_min +=1\n",
    "                else :\n",
    "                    c_high += 1\n",
    "                    state_geojson[\"features\"][i]['properties'][\"fill\"] = \"#00ff00\"\n",
    "                output['features'].append(state_geojson[\"features\"][i])\n",
    "    print(\"Num Villages:\",count)\n",
    "    print(c_min, c_med, c_high)\n",
    "    a_file = open(\"NTL_Wise_Bihar/\"+dist_name+\"_Nightlight_\"+year+\".geojson\", \"w\")\n",
    "    json.dump(output, a_file)\n",
    "    a_file.close()"
   ]
  },
  {
   "cell_type": "code",
   "execution_count": 15,
   "metadata": {},
   "outputs": [],
   "source": [
    "import json\n",
    "a_file = open(\"RJ.geojson\", \"r\")\n",
    "Rajdata = json.load(a_file)\n",
    "a_file.close()"
   ]
  },
  {
   "cell_type": "code",
   "execution_count": 16,
   "metadata": {},
   "outputs": [
    {
     "name": "stdout",
     "output_type": "stream",
     "text": [
      "Num Villages: 1364\n",
      "391 30 664\n",
      "Num Villages: 1364\n",
      "579 178 328\n",
      "Num Villages: 1364\n",
      "562 49 474\n"
     ]
    }
   ],
   "source": [
    "Village_Selector(Rajdata,\"Bharatpur\",105.0,\"2001\",dict_2001)\n",
    "Village_Selector(Rajdata,\"Bharatpur\",105.0,\"2011\",dict_2011)\n",
    "Village_Selector(Rajdata,\"Bharatpur\",105.0,\"2019\",dict_2019)"
   ]
  },
  {
   "cell_type": "code",
   "execution_count": 86,
   "metadata": {},
   "outputs": [],
   "source": [
    "import json\n",
    "a_file = open(\"BR.geojson\", \"r\")\n",
    "bihardata = json.load(a_file)\n",
    "a_file.close()"
   ]
  },
  {
   "cell_type": "code",
   "execution_count": 87,
   "metadata": {},
   "outputs": [
    {
     "name": "stdout",
     "output_type": "stream",
     "text": [
      "Num Villages: 1504\n",
      "237 582 116\n",
      "Num Villages: 1504\n",
      "366 0 569\n",
      "Num Villages: 1504\n",
      "7 267 661\n"
     ]
    }
   ],
   "source": [
    "Village_Selector(bihardata,\"Jamui\",238.0,\"2001\",dict_2001)\n",
    "Village_Selector(bihardata,\"Jamui\",238.0,\"2011\",dict_2011)\n",
    "Village_Selector(bihardata,\"Jamui\",238.0,\"2019\",dict_2019)"
   ]
  },
  {
   "cell_type": "code",
   "execution_count": 88,
   "metadata": {},
   "outputs": [
    {
     "name": "stdout",
     "output_type": "stream",
     "text": [
      "Num Villages: 1051\n",
      "97 693 0\n",
      "Num Villages: 1051\n",
      "261 525 4\n",
      "Num Villages: 1051\n",
      "318 354 118\n"
     ]
    }
   ],
   "source": [
    "Village_Selector(bihardata,\"Nalanda\",229.0,\"2001\",dict_2001)\n",
    "Village_Selector(bihardata,\"Nalanda\",229.0,\"2011\",dict_2011)\n",
    "Village_Selector(bihardata,\"Nalanda\",229.0,\"2019\",dict_2019)"
   ]
  },
  {
   "cell_type": "code",
   "execution_count": 89,
   "metadata": {},
   "outputs": [],
   "source": [
    "a_file = open(\"JH.geojson\", \"r\")\n",
    "jharkhanddata = json.load(a_file)\n",
    "a_file.close()"
   ]
  },
  {
   "cell_type": "code",
   "execution_count": 90,
   "metadata": {},
   "outputs": [
    {
     "name": "stdout",
     "output_type": "stream",
     "text": [
      "Num Villages: 633\n",
      "444 32 34\n",
      "Num Villages: 633\n",
      "211 234 65\n",
      "Num Villages: 633\n",
      "320 190 0\n"
     ]
    }
   ],
   "source": [
    "Village_Selector(jharkhanddata,\"Bokaro\",355.0,\"2001\",dict_2001)\n",
    "Village_Selector(jharkhanddata,\"Bokaro\",355.0,\"2011\",dict_2011)\n",
    "Village_Selector(jharkhanddata,\"Bokaro\",355.0,\"2019\",dict_2019)"
   ]
  },
  {
   "cell_type": "code",
   "execution_count": 91,
   "metadata": {},
   "outputs": [
    {
     "name": "stdout",
     "output_type": "stream",
     "text": [
      "Num Villages: 1312\n",
      "26 925 233\n",
      "Num Villages: 1312\n",
      "79 755 350\n",
      "Num Villages: 1312\n",
      "182 1002 0\n"
     ]
    }
   ],
   "source": [
    "Village_Selector(jharkhanddata,\"Ranchi\",364.0,\"2001\",dict_2001)\n",
    "Village_Selector(jharkhanddata,\"Ranchi\",364.0,\"2011\",dict_2011)\n",
    "Village_Selector(jharkhanddata,\"Ranchi\",364.0,\"2019\",dict_2019)"
   ]
  }
 ],
 "metadata": {
  "interpreter": {
   "hash": "4550baee8934e82194235819a7f79f0bb7331afff99e83971d7f1cf4c1c02101"
  },
  "kernelspec": {
   "display_name": "Python 3.9.7 ('yolo')",
   "language": "python",
   "name": "python3"
  },
  "language_info": {
   "codemirror_mode": {
    "name": "ipython",
    "version": 3
   },
   "file_extension": ".py",
   "mimetype": "text/x-python",
   "name": "python",
   "nbconvert_exporter": "python",
   "pygments_lexer": "ipython3",
   "version": "3.9.7"
  },
  "orig_nbformat": 4
 },
 "nbformat": 4,
 "nbformat_minor": 2
}
