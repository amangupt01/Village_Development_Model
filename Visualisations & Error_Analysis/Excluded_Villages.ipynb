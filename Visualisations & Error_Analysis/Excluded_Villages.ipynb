{
 "cells": [
  {
   "cell_type": "code",
   "execution_count": 1,
   "metadata": {},
   "outputs": [],
   "source": [
    "import pandas as pd\n",
    "df_2001 = pd.read_pickle('data/pred_2001.pkl')\n",
    "df_2011 = pd.read_pickle('data/pred_2011.pkl')\n",
    "df_2019 = pd.read_pickle('data/pred_2019.pkl')"
   ]
  },
  {
   "cell_type": "code",
   "execution_count": 3,
   "metadata": {},
   "outputs": [],
   "source": [
    "df_2001.to_csv(\"Chahat_CSVs/Predictions_Labels_ADI_2001.csv\")\n",
    "df_2011.to_csv(\"Chahat_CSVs/Predictions_Labels_ADI_2011.csv\")\n",
    "df_2019.to_csv(\"Chahat_CSVs/Predictions_Labels_ADI_2019.csv\")"
   ]
  },
  {
   "cell_type": "code",
   "execution_count": 11,
   "metadata": {},
   "outputs": [
    {
     "data": {
      "text/plain": [
       "Int64Index([ 27378,  27379,  27380,  27381,  27382,  27384,  27385,  27392,\n",
       "             27393,  27394,\n",
       "            ...\n",
       "            644649, 644652, 644656, 644657, 644658, 644661, 644682, 644683,\n",
       "            644687, 644693],\n",
       "           dtype='int64', length=962309)"
      ]
     },
     "execution_count": 11,
     "metadata": {},
     "output_type": "execute_result"
    }
   ],
   "source": [
    "df_2001.index.append(df_2011.index.append(df_2019.index))"
   ]
  },
  {
   "cell_type": "code",
   "execution_count": 12,
   "metadata": {},
   "outputs": [],
   "source": [
    "all_considered_villages = {}\n",
    "for village_code in df_2001.index.append(df_2011.index.append(df_2019.index)):\n",
    "    all_considered_villages[village_code] = 0\n",
    "    "
   ]
  },
  {
   "cell_type": "code",
   "execution_count": 13,
   "metadata": {},
   "outputs": [
    {
     "data": {
      "text/plain": [
       "340953"
      ]
     },
     "execution_count": 13,
     "metadata": {},
     "output_type": "execute_result"
    }
   ],
   "source": [
    "len(all_considered_villages)"
   ]
  },
  {
   "cell_type": "code",
   "execution_count": 20,
   "metadata": {},
   "outputs": [],
   "source": [
    "import json\n",
    "from tqdm import tqdm"
   ]
  },
  {
   "cell_type": "code",
   "execution_count": 23,
   "metadata": {},
   "outputs": [
    {
     "name": "stdout",
     "output_type": "stream",
     "text": [
      "PB 2499/12561\n",
      "CG 4561/18726\n",
      "UP 35977/108718\n",
      "MH 8864/42419\n",
      "AP 6764/23478\n",
      "BR 17058/44982\n",
      "JH 12965/32454\n",
      "GJ 2733/16281\n",
      "TN 10850/16040\n",
      "KA 13215/28693\n",
      "RJ 6497/36301\n",
      "HR 1560/6729\n",
      "MP 8191/54874\n",
      "OR 11313/45902\n"
     ]
    }
   ],
   "source": [
    "states = ['PB','CG', 'UP', 'MH', 'AP', 'BR', 'JH', 'GJ', 'TN', 'KA', 'RJ', 'HR', 'MP', 'OR']\n",
    "excluded_villages = {}\n",
    "for state in states:\n",
    "    count = 0\n",
    "    total_count = 0\n",
    "    state_json = json.load(open('state_json/'+state+'.geojson','r'))\n",
    "    for village in state_json['features']:\n",
    "        total_count += 1\n",
    "        try :\n",
    "            if village[\"properties\"]['pc11_village_id'] not in all_considered_villages:\n",
    "                excluded_villages[village[\"properties\"]['pc11_village_id']] = [village[\"properties\"][\"NAME\"],state]\n",
    "                count +=1\n",
    "        except :\n",
    "            if int(village[\"properties\"]['pc11_village_id']) not in all_considered_villages:\n",
    "                excluded_villages[int(village[\"properties\"]['pc11_villa'])] = [village[\"properties\"][\"NAME\"],state]\n",
    "                count +=1\n",
    "    print(state,str(count)+\"/\"+str(total_count))\n"
   ]
  },
  {
   "cell_type": "code",
   "execution_count": 24,
   "metadata": {},
   "outputs": [
    {
     "data": {
      "text/plain": [
       "141495"
      ]
     },
     "execution_count": 24,
     "metadata": {},
     "output_type": "execute_result"
    }
   ],
   "source": [
    "len(excluded_villages)"
   ]
  },
  {
   "cell_type": "code",
   "execution_count": 27,
   "metadata": {},
   "outputs": [],
   "source": [
    "dict_excluded = {\"State_Name\":[], \"Village_Code\":[], \"Village_Name\":[]}\n",
    "for village_code in excluded_villages.keys():\n",
    "    dict_excluded[\"State_Name\"].append(excluded_villages[village_code][1])\n",
    "    dict_excluded[\"Village_Name\"].append(excluded_villages[village_code][0])\n",
    "    dict_excluded[\"Village_Code\"].append(village_code)"
   ]
  },
  {
   "cell_type": "code",
   "execution_count": 28,
   "metadata": {},
   "outputs": [],
   "source": [
    "final_Excluded = pd.DataFrame(dict_excluded)"
   ]
  },
  {
   "cell_type": "code",
   "execution_count": 29,
   "metadata": {},
   "outputs": [
    {
     "data": {
      "text/html": [
       "<div>\n",
       "<style scoped>\n",
       "    .dataframe tbody tr th:only-of-type {\n",
       "        vertical-align: middle;\n",
       "    }\n",
       "\n",
       "    .dataframe tbody tr th {\n",
       "        vertical-align: top;\n",
       "    }\n",
       "\n",
       "    .dataframe thead th {\n",
       "        text-align: right;\n",
       "    }\n",
       "</style>\n",
       "<table border=\"1\" class=\"dataframe\">\n",
       "  <thead>\n",
       "    <tr style=\"text-align: right;\">\n",
       "      <th></th>\n",
       "      <th>State_Name</th>\n",
       "      <th>Village_Code</th>\n",
       "      <th>Village_Name</th>\n",
       "    </tr>\n",
       "  </thead>\n",
       "  <tbody>\n",
       "    <tr>\n",
       "      <th>0</th>\n",
       "      <td>PB</td>\n",
       "      <td>27374</td>\n",
       "      <td>Darbahn</td>\n",
       "    </tr>\n",
       "    <tr>\n",
       "      <th>1</th>\n",
       "      <td>PB</td>\n",
       "      <td>27375</td>\n",
       "      <td>Darkha Bungla</td>\n",
       "    </tr>\n",
       "    <tr>\n",
       "      <th>2</th>\n",
       "      <td>PB</td>\n",
       "      <td>27376</td>\n",
       "      <td>Sarti</td>\n",
       "    </tr>\n",
       "    <tr>\n",
       "      <th>3</th>\n",
       "      <td>PB</td>\n",
       "      <td>27377</td>\n",
       "      <td>Dukhaniyali</td>\n",
       "    </tr>\n",
       "    <tr>\n",
       "      <th>4</th>\n",
       "      <td>PB</td>\n",
       "      <td>27383</td>\n",
       "      <td>Phangota</td>\n",
       "    </tr>\n",
       "  </tbody>\n",
       "</table>\n",
       "</div>"
      ],
      "text/plain": [
       "  State_Name  Village_Code   Village_Name\n",
       "0         PB         27374        Darbahn\n",
       "1         PB         27375  Darkha Bungla\n",
       "2         PB         27376          Sarti\n",
       "3         PB         27377    Dukhaniyali\n",
       "4         PB         27383       Phangota"
      ]
     },
     "execution_count": 29,
     "metadata": {},
     "output_type": "execute_result"
    }
   ],
   "source": [
    "final_Excluded.head()"
   ]
  },
  {
   "cell_type": "code",
   "execution_count": null,
   "metadata": {},
   "outputs": [],
   "source": [
    "final_Excluded.to_csv(\"Chahat_CSVs/Excluded_Villages.csv\")"
   ]
  }
 ],
 "metadata": {
  "kernelspec": {
   "display_name": "Python 3.9.7 ('yolo')",
   "language": "python",
   "name": "python3"
  },
  "language_info": {
   "codemirror_mode": {
    "name": "ipython",
    "version": 3
   },
   "file_extension": ".py",
   "mimetype": "text/x-python",
   "name": "python",
   "nbconvert_exporter": "python",
   "pygments_lexer": "ipython3",
   "version": "3.9.7"
  },
  "orig_nbformat": 4,
  "vscode": {
   "interpreter": {
    "hash": "4550baee8934e82194235819a7f79f0bb7331afff99e83971d7f1cf4c1c02101"
   }
  }
 },
 "nbformat": 4,
 "nbformat_minor": 2
}
