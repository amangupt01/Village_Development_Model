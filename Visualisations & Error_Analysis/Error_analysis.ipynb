{
 "cells": [
  {
   "cell_type": "code",
   "execution_count": null,
   "metadata": {},
   "outputs": [],
   "source": [
    "import pandas as pd\n",
    "gt_2011 = pd.read_pickle(\"ground_truth_2011.pkl\")\n",
    "pred_2011 = pd.read_pickle('data/pred_2011.pkl')"
   ]
  },
  {
   "cell_type": "code",
   "execution_count": 2,
   "metadata": {},
   "outputs": [
    {
     "data": {
      "text/html": [
       "<div>\n",
       "<style scoped>\n",
       "    .dataframe tbody tr th:only-of-type {\n",
       "        vertical-align: middle;\n",
       "    }\n",
       "\n",
       "    .dataframe tbody tr th {\n",
       "        vertical-align: top;\n",
       "    }\n",
       "\n",
       "    .dataframe thead th {\n",
       "        text-align: right;\n",
       "    }\n",
       "</style>\n",
       "<table border=\"1\" class=\"dataframe\">\n",
       "  <thead>\n",
       "    <tr style=\"text-align: right;\">\n",
       "      <th></th>\n",
       "      <th>ADI</th>\n",
       "      <th>BF</th>\n",
       "      <th>FC</th>\n",
       "      <th>ASSET</th>\n",
       "      <th>LIT</th>\n",
       "      <th>MSW</th>\n",
       "    </tr>\n",
       "    <tr>\n",
       "      <th>village_code</th>\n",
       "      <th></th>\n",
       "      <th></th>\n",
       "      <th></th>\n",
       "      <th></th>\n",
       "      <th></th>\n",
       "      <th></th>\n",
       "    </tr>\n",
       "  </thead>\n",
       "  <tbody>\n",
       "    <tr>\n",
       "      <th>34223</th>\n",
       "      <td>11</td>\n",
       "      <td>3</td>\n",
       "      <td>1</td>\n",
       "      <td>3</td>\n",
       "      <td>2</td>\n",
       "      <td>2</td>\n",
       "    </tr>\n",
       "    <tr>\n",
       "      <th>34224</th>\n",
       "      <td>14</td>\n",
       "      <td>3</td>\n",
       "      <td>3</td>\n",
       "      <td>3</td>\n",
       "      <td>3</td>\n",
       "      <td>2</td>\n",
       "    </tr>\n",
       "    <tr>\n",
       "      <th>34225</th>\n",
       "      <td>13</td>\n",
       "      <td>2</td>\n",
       "      <td>3</td>\n",
       "      <td>3</td>\n",
       "      <td>2</td>\n",
       "      <td>3</td>\n",
       "    </tr>\n",
       "    <tr>\n",
       "      <th>34228</th>\n",
       "      <td>12</td>\n",
       "      <td>1</td>\n",
       "      <td>3</td>\n",
       "      <td>3</td>\n",
       "      <td>2</td>\n",
       "      <td>3</td>\n",
       "    </tr>\n",
       "    <tr>\n",
       "      <th>34230</th>\n",
       "      <td>12</td>\n",
       "      <td>3</td>\n",
       "      <td>2</td>\n",
       "      <td>3</td>\n",
       "      <td>2</td>\n",
       "      <td>2</td>\n",
       "    </tr>\n",
       "  </tbody>\n",
       "</table>\n",
       "</div>"
      ],
      "text/plain": [
       "              ADI  BF  FC  ASSET  LIT  MSW\n",
       "village_code                              \n",
       "34223          11   3   1      3    2    2\n",
       "34224          14   3   3      3    3    2\n",
       "34225          13   2   3      3    2    3\n",
       "34228          12   1   3      3    2    3\n",
       "34230          12   3   2      3    2    2"
      ]
     },
     "execution_count": 2,
     "metadata": {},
     "output_type": "execute_result"
    }
   ],
   "source": [
    "gt_2011.set_index('village_code',inplace=True)\n",
    "gt_2011.head()"
   ]
  },
  {
   "cell_type": "code",
   "execution_count": 3,
   "metadata": {},
   "outputs": [
    {
     "data": {
      "text/html": [
       "<div>\n",
       "<style scoped>\n",
       "    .dataframe tbody tr th:only-of-type {\n",
       "        vertical-align: middle;\n",
       "    }\n",
       "\n",
       "    .dataframe tbody tr th {\n",
       "        vertical-align: top;\n",
       "    }\n",
       "\n",
       "    .dataframe thead th {\n",
       "        text-align: right;\n",
       "    }\n",
       "</style>\n",
       "<table border=\"1\" class=\"dataframe\">\n",
       "  <thead>\n",
       "    <tr style=\"text-align: right;\">\n",
       "      <th></th>\n",
       "      <th>BF</th>\n",
       "      <th>FC</th>\n",
       "      <th>MSW</th>\n",
       "      <th>ASSET</th>\n",
       "      <th>LIT</th>\n",
       "      <th>ADI</th>\n",
       "    </tr>\n",
       "  </thead>\n",
       "  <tbody>\n",
       "    <tr>\n",
       "      <th>27378</th>\n",
       "      <td>1</td>\n",
       "      <td>1</td>\n",
       "      <td>3</td>\n",
       "      <td>3</td>\n",
       "      <td>3</td>\n",
       "      <td>11</td>\n",
       "    </tr>\n",
       "    <tr>\n",
       "      <th>27379</th>\n",
       "      <td>1</td>\n",
       "      <td>3</td>\n",
       "      <td>3</td>\n",
       "      <td>3</td>\n",
       "      <td>3</td>\n",
       "      <td>13</td>\n",
       "    </tr>\n",
       "    <tr>\n",
       "      <th>27380</th>\n",
       "      <td>1</td>\n",
       "      <td>1</td>\n",
       "      <td>3</td>\n",
       "      <td>3</td>\n",
       "      <td>3</td>\n",
       "      <td>11</td>\n",
       "    </tr>\n",
       "    <tr>\n",
       "      <th>27381</th>\n",
       "      <td>1</td>\n",
       "      <td>1</td>\n",
       "      <td>3</td>\n",
       "      <td>3</td>\n",
       "      <td>3</td>\n",
       "      <td>11</td>\n",
       "    </tr>\n",
       "    <tr>\n",
       "      <th>27382</th>\n",
       "      <td>1</td>\n",
       "      <td>1</td>\n",
       "      <td>3</td>\n",
       "      <td>3</td>\n",
       "      <td>3</td>\n",
       "      <td>11</td>\n",
       "    </tr>\n",
       "  </tbody>\n",
       "</table>\n",
       "</div>"
      ],
      "text/plain": [
       "       BF  FC  MSW  ASSET  LIT  ADI\n",
       "27378   1   1    3      3    3   11\n",
       "27379   1   3    3      3    3   13\n",
       "27380   1   1    3      3    3   11\n",
       "27381   1   1    3      3    3   11\n",
       "27382   1   1    3      3    3   11"
      ]
     },
     "execution_count": 3,
     "metadata": {},
     "output_type": "execute_result"
    }
   ],
   "source": [
    "pred_2011.head()"
   ]
  },
  {
   "cell_type": "code",
   "execution_count": 5,
   "metadata": {},
   "outputs": [
    {
     "data": {
      "text/plain": [
       "count    340953.000000\n",
       "mean          9.015709\n",
       "std           2.328290\n",
       "min           5.000000\n",
       "25%           7.000000\n",
       "50%           9.000000\n",
       "75%          10.000000\n",
       "max          15.000000\n",
       "Name: ADI, dtype: float64"
      ]
     },
     "execution_count": 5,
     "metadata": {},
     "output_type": "execute_result"
    }
   ],
   "source": [
    "gt_2011['ADI'].describe()"
   ]
  },
  {
   "cell_type": "code",
   "execution_count": 8,
   "metadata": {},
   "outputs": [],
   "source": [
    "all_df = pd.merge(gt_2011,pred_2011,left_index=True, right_index=True,suffixes=('_gt','_pred'))"
   ]
  },
  {
   "cell_type": "code",
   "execution_count": 7,
   "metadata": {},
   "outputs": [
    {
     "data": {
      "text/html": [
       "<div>\n",
       "<style scoped>\n",
       "    .dataframe tbody tr th:only-of-type {\n",
       "        vertical-align: middle;\n",
       "    }\n",
       "\n",
       "    .dataframe tbody tr th {\n",
       "        vertical-align: top;\n",
       "    }\n",
       "\n",
       "    .dataframe thead th {\n",
       "        text-align: right;\n",
       "    }\n",
       "</style>\n",
       "<table border=\"1\" class=\"dataframe\">\n",
       "  <thead>\n",
       "    <tr style=\"text-align: right;\">\n",
       "      <th></th>\n",
       "      <th>ADI_gt</th>\n",
       "      <th>BF_gt</th>\n",
       "      <th>FC_gt</th>\n",
       "      <th>ASSET_gt</th>\n",
       "      <th>LIT_gt</th>\n",
       "      <th>MSW_gt</th>\n",
       "      <th>BF_pred</th>\n",
       "      <th>FC_pred</th>\n",
       "      <th>MSW_pred</th>\n",
       "      <th>ASSET_pred</th>\n",
       "      <th>LIT_pred</th>\n",
       "      <th>ADI_pred</th>\n",
       "    </tr>\n",
       "  </thead>\n",
       "  <tbody>\n",
       "    <tr>\n",
       "      <th>34223</th>\n",
       "      <td>11</td>\n",
       "      <td>3</td>\n",
       "      <td>1</td>\n",
       "      <td>3</td>\n",
       "      <td>2</td>\n",
       "      <td>2</td>\n",
       "      <td>3</td>\n",
       "      <td>3</td>\n",
       "      <td>2</td>\n",
       "      <td>3</td>\n",
       "      <td>3</td>\n",
       "      <td>14</td>\n",
       "    </tr>\n",
       "    <tr>\n",
       "      <th>34224</th>\n",
       "      <td>14</td>\n",
       "      <td>3</td>\n",
       "      <td>3</td>\n",
       "      <td>3</td>\n",
       "      <td>3</td>\n",
       "      <td>2</td>\n",
       "      <td>3</td>\n",
       "      <td>3</td>\n",
       "      <td>2</td>\n",
       "      <td>3</td>\n",
       "      <td>3</td>\n",
       "      <td>14</td>\n",
       "    </tr>\n",
       "    <tr>\n",
       "      <th>34225</th>\n",
       "      <td>13</td>\n",
       "      <td>2</td>\n",
       "      <td>3</td>\n",
       "      <td>3</td>\n",
       "      <td>2</td>\n",
       "      <td>3</td>\n",
       "      <td>3</td>\n",
       "      <td>3</td>\n",
       "      <td>2</td>\n",
       "      <td>3</td>\n",
       "      <td>2</td>\n",
       "      <td>13</td>\n",
       "    </tr>\n",
       "    <tr>\n",
       "      <th>34228</th>\n",
       "      <td>12</td>\n",
       "      <td>1</td>\n",
       "      <td>3</td>\n",
       "      <td>3</td>\n",
       "      <td>2</td>\n",
       "      <td>3</td>\n",
       "      <td>3</td>\n",
       "      <td>3</td>\n",
       "      <td>3</td>\n",
       "      <td>3</td>\n",
       "      <td>2</td>\n",
       "      <td>14</td>\n",
       "    </tr>\n",
       "    <tr>\n",
       "      <th>34230</th>\n",
       "      <td>12</td>\n",
       "      <td>3</td>\n",
       "      <td>2</td>\n",
       "      <td>3</td>\n",
       "      <td>2</td>\n",
       "      <td>2</td>\n",
       "      <td>3</td>\n",
       "      <td>2</td>\n",
       "      <td>2</td>\n",
       "      <td>3</td>\n",
       "      <td>2</td>\n",
       "      <td>12</td>\n",
       "    </tr>\n",
       "  </tbody>\n",
       "</table>\n",
       "</div>"
      ],
      "text/plain": [
       "       ADI_gt  BF_gt  FC_gt  ASSET_gt  LIT_gt  MSW_gt  BF_pred  FC_pred  \\\n",
       "34223      11      3      1         3       2       2        3        3   \n",
       "34224      14      3      3         3       3       2        3        3   \n",
       "34225      13      2      3         3       2       3        3        3   \n",
       "34228      12      1      3         3       2       3        3        3   \n",
       "34230      12      3      2         3       2       2        3        2   \n",
       "\n",
       "       MSW_pred  ASSET_pred  LIT_pred  ADI_pred  \n",
       "34223         2           3         3        14  \n",
       "34224         2           3         3        14  \n",
       "34225         2           3         2        13  \n",
       "34228         3           3         2        14  \n",
       "34230         2           3         2        12  "
      ]
     },
     "execution_count": 7,
     "metadata": {},
     "output_type": "execute_result"
    }
   ],
   "source": [
    "all_df.head()"
   ]
  },
  {
   "cell_type": "code",
   "execution_count": 8,
   "metadata": {},
   "outputs": [
    {
     "data": {
      "text/plain": [
       "(340953, 12)"
      ]
     },
     "execution_count": 8,
     "metadata": {},
     "output_type": "execute_result"
    }
   ],
   "source": [
    "all_df.shape"
   ]
  },
  {
   "cell_type": "code",
   "execution_count": 9,
   "metadata": {},
   "outputs": [
    {
     "data": {
      "text/plain": [
       "[Text(0.5, 0, 'Groundtruth ADI'),\n",
       " Text(0, 0.5, 'Density of villages having diff. ADI > 2')]"
      ]
     },
     "execution_count": 9,
     "metadata": {},
     "output_type": "execute_result"
    },
    {
     "data": {
      "image/png": "[encoded data removed]",
      "text/plain": [
       "<Figure size 432x288 with 1 Axes>"
      ]
     },
     "metadata": {
      "needs_background": "light"
     },
     "output_type": "display_data"
    }
   ],
   "source": [
    "all_df[abs(all_df.ADI_pred - all_df.ADI_gt)>2][\"ADI_gt\"].hist(density = True).set(xlabel = \"Groundtruth ADI\", ylabel = \"Density of villages having diff. ADI > 2\" )"
   ]
  },
  {
   "cell_type": "code",
   "execution_count": 34,
   "metadata": {},
   "outputs": [],
   "source": [
    "all_df[\"Difference\"] = all_df.ADI_pred - all_df.ADI_gt"
   ]
  },
  {
   "cell_type": "code",
   "execution_count": 35,
   "metadata": {},
   "outputs": [
    {
     "data": {
      "text/plain": [
       "<AxesSubplot:>"
      ]
     },
     "execution_count": 35,
     "metadata": {},
     "output_type": "execute_result"
    },
    {
     "data": {
      "image/png": "[encoded data removed]",
      "text/plain": [
       "<Figure size 432x288 with 1 Axes>"
      ]
     },
     "metadata": {
      "needs_background": "light"
     },
     "output_type": "display_data"
    }
   ],
   "source": [
    "all_df['Difference'].hist(density = True)"
   ]
  },
  {
   "cell_type": "code",
   "execution_count": 36,
   "metadata": {},
   "outputs": [
    {
     "data": {
      "text/plain": [
       " 0     124720\n",
       "-1      67161\n",
       " 1      60447\n",
       "-2      34537\n",
       " 2      21813\n",
       "-3      13939\n",
       " 3       5940\n",
       "-4       5742\n",
       "-5       2409\n",
       " 4       2000\n",
       "-6        869\n",
       " 5        662\n",
       "-7        264\n",
       " 6        217\n",
       " 7         95\n",
       "-8         88\n",
       "-9         24\n",
       " 8         21\n",
       "-10         3\n",
       " 10         1\n",
       " 9          1\n",
       "Name: Difference, dtype: int64"
      ]
     },
     "execution_count": 36,
     "metadata": {},
     "output_type": "execute_result"
    }
   ],
   "source": [
    "all_df['Difference'].value_counts()"
   ]
  },
  {
   "cell_type": "code",
   "execution_count": 37,
   "metadata": {},
   "outputs": [
    {
     "data": {
      "text/plain": [
       "count    340953.000000\n",
       "mean          9.015709\n",
       "std           2.328290\n",
       "min           5.000000\n",
       "25%           7.000000\n",
       "50%           9.000000\n",
       "75%          10.000000\n",
       "max          15.000000\n",
       "Name: ADI, dtype: float64"
      ]
     },
     "execution_count": 37,
     "metadata": {},
     "output_type": "execute_result"
    }
   ],
   "source": [
    "gt_2011['ADI'].describe()"
   ]
  },
  {
   "cell_type": "code",
   "execution_count": 14,
   "metadata": {},
   "outputs": [],
   "source": [
    "import json\n",
    "\n",
    "def make_state_dict(state_code) :\n",
    "    dic = {}\n",
    "    state_json = json.load(open('state_json/'+state_code+'.geojson','r'))\n",
    "    for village in state_json['features']:\n",
    "        try :\n",
    "            dic[village[\"properties\"]['pc11_village_id']] = 1\n",
    "        except :\n",
    "            dic[int(village[\"properties\"]['pc11_villa'])] = 1\n",
    "    return dic"
   ]
  },
  {
   "cell_type": "code",
   "execution_count": 23,
   "metadata": {},
   "outputs": [],
   "source": [
    "#'PB','CG', 'UP', 'MH', 'AP', 'BR', 'JH', 'GJ', 'TN', 'KA', 'RJ', 'HR', 'MP', 'OR'\n",
    "PB_ = make_state_dict(\"PB\")\n",
    "CG_ = make_state_dict(\"CG\")\n",
    "MH_ = make_state_dict(\"MH\")\n",
    "AP_ = make_state_dict(\"AP\")\n",
    "BR_ = make_state_dict(\"BR\")\n",
    "JH_ = make_state_dict(\"JH\")\n",
    "GJ_ = make_state_dict(\"GJ\")\n",
    "TN_ = make_state_dict(\"TN\")\n",
    "KA_ = make_state_dict(\"KA\")\n",
    "RJ_ = make_state_dict(\"RJ\")\n",
    "HR_ = make_state_dict(\"HR\")\n",
    "MP_ = make_state_dict(\"MP\")\n",
    "OR_ = make_state_dict(\"OR\")\n"
   ]
  },
  {
   "cell_type": "code",
   "execution_count": 24,
   "metadata": {},
   "outputs": [],
   "source": [
    "UP_ = make_state_dict(\"UP\")"
   ]
  },
  {
   "cell_type": "code",
   "execution_count": 20,
   "metadata": {},
   "outputs": [],
   "source": [
    "df_UP = all_df[all_df.index.isin(UP_)]"
   ]
  },
  {
   "cell_type": "code",
   "execution_count": 21,
   "metadata": {},
   "outputs": [],
   "source": [
    "df_PB = all_df[all_df.index.isin(PB_)]\n",
    "df_CG = all_df[all_df.index.isin(CG_)]\n",
    "df_MH = all_df[all_df.index.isin(MH_)]\n",
    "df_AP = all_df[all_df.index.isin(AP_)]\n",
    "df_BR = all_df[all_df.index.isin(BR_)]\n",
    "df_JH = all_df[all_df.index.isin(JH_)]\n",
    "df_GJ = all_df[all_df.index.isin(GJ_)]\n",
    "df_TN = all_df[all_df.index.isin(TN_)]\n",
    "df_KA = all_df[all_df.index.isin(KA_)]\n",
    "df_RJ = all_df[all_df.index.isin(RJ_)]\n",
    "df_HR = all_df[all_df.index.isin(HR_)]\n",
    "df_MP = all_df[all_df.index.isin(MP_)]\n",
    "df_OR = all_df[all_df.index.isin(OR_)]\n"
   ]
  },
  {
   "cell_type": "code",
   "execution_count": 22,
   "metadata": {},
   "outputs": [],
   "source": [
    "dic_states = {}\n",
    "dic_states[\"PB\"] = df_PB\n",
    "dic_states[\"CG\"] = df_CG\n",
    "dic_states[\"MH\"] = df_MH\n",
    "dic_states[\"AP\"] = df_AP\n",
    "dic_states[\"BR\"] = df_BR\n",
    "dic_states[\"JH\"] = df_JH\n",
    "dic_states[\"GJ\"] = df_GJ\n",
    "dic_states[\"TN\"] = df_TN\n",
    "dic_states[\"KA\"] = df_KA\n",
    "dic_states[\"RJ\"] = df_RJ\n",
    "dic_states[\"HR\"] = df_HR\n",
    "dic_states[\"MP\"] = df_MP\n",
    "dic_states[\"OR\"] = df_OR\n"
   ]
  },
  {
   "cell_type": "code",
   "execution_count": 27,
   "metadata": {},
   "outputs": [],
   "source": [
    "dic_states[\"UP\"] = df_UP"
   ]
  },
  {
   "cell_type": "code",
   "execution_count": 28,
   "metadata": {},
   "outputs": [
    {
     "name": "stdout",
     "output_type": "stream",
     "text": [
      "PB 0.749602080486532 5.732027443571642 2.281345215979709\n",
      "CG nan nan nan\n",
      "UP 0.2930429848877357 1.8958698658454871 1.4093634740197205\n",
      "MH nan nan nan\n",
      "AP nan nan nan\n",
      "BR 0.2949805507587731 1.8581703107019563 1.462943252447241\n",
      "JH nan nan nan\n",
      "GJ nan nan nan\n",
      "TN nan nan nan\n",
      "KA nan nan nan\n",
      "RJ 0.2996128461680326 2.24478823406986 1.7483914928504183\n",
      "HR 0.49964311612962947 4.330495356037152 2.1747497039428256\n",
      "MP nan nan nan\n",
      "OR nan nan nan\n"
     ]
    }
   ],
   "source": [
    "states_list = ['PB','CG', 'UP', 'MH', 'AP', 'BR', 'JH', 'GJ', 'TN', 'KA', 'RJ', 'HR', 'MP', 'OR']\n",
    "for state in states_list:\n",
    "    print(state, (((dic_states[state].ADI_pred - dic_states[state].ADI_gt) ** 2).mean() ** .5)/dic_states[state].ADI_gt.mean(), (abs(dic_states[state].ADI_pred - dic_states[state].ADI_gt)).mean(),  (abs(dic_states[state].ADI_pred - dic_states[state].ADI_gt)).std())"
   ]
  },
  {
   "cell_type": "code",
   "execution_count": 29,
   "metadata": {},
   "outputs": [
    {
     "data": {
      "text/html": [
       "<div>\n",
       "<style scoped>\n",
       "    .dataframe tbody tr th:only-of-type {\n",
       "        vertical-align: middle;\n",
       "    }\n",
       "\n",
       "    .dataframe tbody tr th {\n",
       "        vertical-align: top;\n",
       "    }\n",
       "\n",
       "    .dataframe thead th {\n",
       "        text-align: right;\n",
       "    }\n",
       "</style>\n",
       "<table border=\"1\" class=\"dataframe\">\n",
       "  <thead>\n",
       "    <tr style=\"text-align: right;\">\n",
       "      <th></th>\n",
       "      <th>village_code</th>\n",
       "      <th>ADI_gt</th>\n",
       "      <th>BF_gt</th>\n",
       "      <th>FC_gt</th>\n",
       "      <th>ASSET_gt</th>\n",
       "      <th>LIT_gt</th>\n",
       "      <th>MSW_gt</th>\n",
       "      <th>BF_pred</th>\n",
       "      <th>FC_pred</th>\n",
       "      <th>MSW_pred</th>\n",
       "      <th>ASSET_pred</th>\n",
       "      <th>LIT_pred</th>\n",
       "      <th>ADI_pred</th>\n",
       "    </tr>\n",
       "  </thead>\n",
       "  <tbody>\n",
       "    <tr>\n",
       "      <th>108884</th>\n",
       "      <td>123428</td>\n",
       "      <td>11</td>\n",
       "      <td>1</td>\n",
       "      <td>2</td>\n",
       "      <td>3</td>\n",
       "      <td>3</td>\n",
       "      <td>2</td>\n",
       "      <td>1</td>\n",
       "      <td>1</td>\n",
       "      <td>2</td>\n",
       "      <td>2</td>\n",
       "      <td>2</td>\n",
       "      <td>8</td>\n",
       "    </tr>\n",
       "    <tr>\n",
       "      <th>108886</th>\n",
       "      <td>123430</td>\n",
       "      <td>11</td>\n",
       "      <td>1</td>\n",
       "      <td>2</td>\n",
       "      <td>3</td>\n",
       "      <td>3</td>\n",
       "      <td>2</td>\n",
       "      <td>1</td>\n",
       "      <td>1</td>\n",
       "      <td>3</td>\n",
       "      <td>2</td>\n",
       "      <td>2</td>\n",
       "      <td>9</td>\n",
       "    </tr>\n",
       "    <tr>\n",
       "      <th>108887</th>\n",
       "      <td>123431</td>\n",
       "      <td>10</td>\n",
       "      <td>1</td>\n",
       "      <td>3</td>\n",
       "      <td>2</td>\n",
       "      <td>2</td>\n",
       "      <td>2</td>\n",
       "      <td>1</td>\n",
       "      <td>1</td>\n",
       "      <td>3</td>\n",
       "      <td>2</td>\n",
       "      <td>2</td>\n",
       "      <td>9</td>\n",
       "    </tr>\n",
       "    <tr>\n",
       "      <th>108888</th>\n",
       "      <td>123432</td>\n",
       "      <td>10</td>\n",
       "      <td>1</td>\n",
       "      <td>1</td>\n",
       "      <td>3</td>\n",
       "      <td>3</td>\n",
       "      <td>2</td>\n",
       "      <td>1</td>\n",
       "      <td>1</td>\n",
       "      <td>2</td>\n",
       "      <td>2</td>\n",
       "      <td>2</td>\n",
       "      <td>8</td>\n",
       "    </tr>\n",
       "    <tr>\n",
       "      <th>108889</th>\n",
       "      <td>123434</td>\n",
       "      <td>8</td>\n",
       "      <td>1</td>\n",
       "      <td>1</td>\n",
       "      <td>2</td>\n",
       "      <td>2</td>\n",
       "      <td>2</td>\n",
       "      <td>1</td>\n",
       "      <td>1</td>\n",
       "      <td>2</td>\n",
       "      <td>2</td>\n",
       "      <td>2</td>\n",
       "      <td>8</td>\n",
       "    </tr>\n",
       "  </tbody>\n",
       "</table>\n",
       "</div>"
      ],
      "text/plain": [
       "        village_code  ADI_gt  BF_gt  FC_gt  ASSET_gt  LIT_gt  MSW_gt  BF_pred  \\\n",
       "108884        123428      11      1      2         3       3       2        1   \n",
       "108886        123430      11      1      2         3       3       2        1   \n",
       "108887        123431      10      1      3         2       2       2        1   \n",
       "108888        123432      10      1      1         3       3       2        1   \n",
       "108889        123434       8      1      1         2       2       2        1   \n",
       "\n",
       "        FC_pred  MSW_pred  ASSET_pred  LIT_pred  ADI_pred  \n",
       "108884        1         2           2         2         8  \n",
       "108886        1         3           2         2         9  \n",
       "108887        1         3           2         2         9  \n",
       "108888        1         2           2         2         8  \n",
       "108889        1         2           2         2         8  "
      ]
     },
     "execution_count": 29,
     "metadata": {},
     "output_type": "execute_result"
    }
   ],
   "source": [
    "df_UP.head()"
   ]
  },
  {
   "cell_type": "code",
   "execution_count": 30,
   "metadata": {},
   "outputs": [
    {
     "data": {
      "text/plain": [
       "2.319608464490687"
      ]
     },
     "execution_count": 30,
     "metadata": {},
     "output_type": "execute_result"
    }
   ],
   "source": [
    "abs(all_df.ADI_gt- all_df.ADI_pred).mean()"
   ]
  },
  {
   "cell_type": "code",
   "execution_count": 31,
   "metadata": {},
   "outputs": [
    {
     "data": {
      "text/plain": [
       "1.914370398054535"
      ]
     },
     "execution_count": 31,
     "metadata": {},
     "output_type": "execute_result"
    }
   ],
   "source": [
    "abs(all_df.ADI_gt- all_df.ADI_pred).std()"
   ]
  },
  {
   "cell_type": "code",
   "execution_count": 32,
   "metadata": {},
   "outputs": [],
   "source": [
    "def count_vill(state_code) :\n",
    "    state_json = json.load(open('state_json/'+state_code+'.geojson','r'))\n",
    "    print(state + \" \" +str(len(state_json['features'])) + \" \" + str(dic_states[state_code].shape[0]) + \" \" +str((dic_states[state_code].shape[0]/len(state_json['features']))*100) )"
   ]
  },
  {
   "cell_type": "code",
   "execution_count": 33,
   "metadata": {},
   "outputs": [
    {
     "name": "stdout",
     "output_type": "stream",
     "text": [
      "AP 23478 0 0.0\n",
      "BR 44982 27808 61.82028366902317\n",
      "CG 18726 0 0.0\n",
      "GJ 16281 0 0.0\n",
      "HR 6729 5168 76.80190221429632\n",
      "JH 32454 0 0.0\n",
      "KA 28693 0 0.0\n",
      "MH 42419 0 0.0\n",
      "MP 54874 0 0.0\n",
      "OR 45902 0 0.0\n",
      "PB 12561 10057 80.065281426638\n",
      "RJ 36301 28829 79.41654499876036\n",
      "TN 16040 0 0.0\n",
      "UP 108718 70143 64.51829503854007\n"
     ]
    }
   ],
   "source": [
    "states_list = ['AP', 'BR', 'CG', 'GJ', 'HR', 'JH', 'KA', 'MH', 'MP',  'OR', 'PB',  'RJ', 'TN', 'UP']\n",
    "for state in states_list:\n",
    "    count_vill(state)"
   ]
  },
  {
   "cell_type": "code",
   "execution_count": null,
   "metadata": {},
   "outputs": [],
   "source": [
    "adi_2001 = pd.read_pickle('data/pred_2001.pkl')\n",
    "adi_2011 = pd.read_pickle('data/pred_2011.pkl')\n",
    "adi_2019 = pd.read_pickle('data/pred_2019.pkl')"
   ]
  },
  {
   "cell_type": "code",
   "execution_count": null,
   "metadata": {},
   "outputs": [],
   "source": [
    "data_01_11 = pd.merge(adi_2001,adi_2011,left_index=True,right_index=True,suffixes=(\"_2001\",\"_2011\"))"
   ]
  },
  {
   "cell_type": "code",
   "execution_count": null,
   "metadata": {},
   "outputs": [],
   "source": [
    "data_01_11 = data_01_11[data_01_11[\"ADI_2011\"]<12]"
   ]
  },
  {
   "cell_type": "code",
   "execution_count": null,
   "metadata": {},
   "outputs": [],
   "source": [
    "data_01_11[\"ADI_Diff\"] = data_01_11[\"ADI_2011\"] - data_01_11[\"ADI_2001\"]"
   ]
  },
  {
   "cell_type": "code",
   "execution_count": 24,
   "metadata": {},
   "outputs": [
    {
     "data": {
      "text/html": [
       "<div>\n",
       "<style scoped>\n",
       "    .dataframe tbody tr th:only-of-type {\n",
       "        vertical-align: middle;\n",
       "    }\n",
       "\n",
       "    .dataframe tbody tr th {\n",
       "        vertical-align: top;\n",
       "    }\n",
       "\n",
       "    .dataframe thead th {\n",
       "        text-align: right;\n",
       "    }\n",
       "</style>\n",
       "<table border=\"1\" class=\"dataframe\">\n",
       "  <thead>\n",
       "    <tr style=\"text-align: right;\">\n",
       "      <th></th>\n",
       "      <th>BF_2001</th>\n",
       "      <th>FC_2001</th>\n",
       "      <th>MSW_2001</th>\n",
       "      <th>ASSET_2001</th>\n",
       "      <th>LIT_2001</th>\n",
       "      <th>ADI_2001</th>\n",
       "      <th>BF_2011</th>\n",
       "      <th>FC_2011</th>\n",
       "      <th>MSW_2011</th>\n",
       "      <th>ASSET_2011</th>\n",
       "      <th>LIT_2011</th>\n",
       "      <th>ADI_2011</th>\n",
       "      <th>ADI_Diff</th>\n",
       "      <th>index</th>\n",
       "    </tr>\n",
       "  </thead>\n",
       "  <tbody>\n",
       "    <tr>\n",
       "      <th>27378</th>\n",
       "      <td>1</td>\n",
       "      <td>1</td>\n",
       "      <td>1</td>\n",
       "      <td>2</td>\n",
       "      <td>2</td>\n",
       "      <td>7</td>\n",
       "      <td>1</td>\n",
       "      <td>1</td>\n",
       "      <td>3</td>\n",
       "      <td>3</td>\n",
       "      <td>3</td>\n",
       "      <td>11</td>\n",
       "      <td>4</td>\n",
       "      <td>27378</td>\n",
       "    </tr>\n",
       "    <tr>\n",
       "      <th>27380</th>\n",
       "      <td>1</td>\n",
       "      <td>1</td>\n",
       "      <td>1</td>\n",
       "      <td>2</td>\n",
       "      <td>2</td>\n",
       "      <td>7</td>\n",
       "      <td>1</td>\n",
       "      <td>1</td>\n",
       "      <td>3</td>\n",
       "      <td>3</td>\n",
       "      <td>3</td>\n",
       "      <td>11</td>\n",
       "      <td>4</td>\n",
       "      <td>27380</td>\n",
       "    </tr>\n",
       "    <tr>\n",
       "      <th>27381</th>\n",
       "      <td>1</td>\n",
       "      <td>1</td>\n",
       "      <td>1</td>\n",
       "      <td>2</td>\n",
       "      <td>2</td>\n",
       "      <td>7</td>\n",
       "      <td>1</td>\n",
       "      <td>1</td>\n",
       "      <td>3</td>\n",
       "      <td>3</td>\n",
       "      <td>3</td>\n",
       "      <td>11</td>\n",
       "      <td>4</td>\n",
       "      <td>27381</td>\n",
       "    </tr>\n",
       "    <tr>\n",
       "      <th>27382</th>\n",
       "      <td>1</td>\n",
       "      <td>1</td>\n",
       "      <td>1</td>\n",
       "      <td>2</td>\n",
       "      <td>2</td>\n",
       "      <td>7</td>\n",
       "      <td>1</td>\n",
       "      <td>1</td>\n",
       "      <td>3</td>\n",
       "      <td>3</td>\n",
       "      <td>3</td>\n",
       "      <td>11</td>\n",
       "      <td>4</td>\n",
       "      <td>27382</td>\n",
       "    </tr>\n",
       "    <tr>\n",
       "      <th>27384</th>\n",
       "      <td>1</td>\n",
       "      <td>1</td>\n",
       "      <td>1</td>\n",
       "      <td>2</td>\n",
       "      <td>2</td>\n",
       "      <td>7</td>\n",
       "      <td>1</td>\n",
       "      <td>1</td>\n",
       "      <td>3</td>\n",
       "      <td>3</td>\n",
       "      <td>3</td>\n",
       "      <td>11</td>\n",
       "      <td>4</td>\n",
       "      <td>27384</td>\n",
       "    </tr>\n",
       "  </tbody>\n",
       "</table>\n",
       "</div>"
      ],
      "text/plain": [
       "       BF_2001  FC_2001  MSW_2001  ASSET_2001  LIT_2001  ADI_2001  BF_2011  \\\n",
       "27378        1        1         1           2         2         7        1   \n",
       "27380        1        1         1           2         2         7        1   \n",
       "27381        1        1         1           2         2         7        1   \n",
       "27382        1        1         1           2         2         7        1   \n",
       "27384        1        1         1           2         2         7        1   \n",
       "\n",
       "       FC_2011  MSW_2011  ASSET_2011  LIT_2011  ADI_2011  ADI_Diff  index  \n",
       "27378        1         3           3         3        11         4  27378  \n",
       "27380        1         3           3         3        11         4  27380  \n",
       "27381        1         3           3         3        11         4  27381  \n",
       "27382        1         3           3         3        11         4  27382  \n",
       "27384        1         3           3         3        11         4  27384  "
      ]
     },
     "execution_count": 24,
     "metadata": {},
     "output_type": "execute_result"
    }
   ],
   "source": [
    "data_01_11.head()"
   ]
  },
  {
   "cell_type": "code",
   "execution_count": 14,
   "metadata": {},
   "outputs": [],
   "source": [
    "import json\n",
    "def count_vill(state_code) :\n",
    "    state_json = json.load(open('state_json/'+state_code+'.geojson','r'))\n",
    "    vil_dict = {}\n",
    "    for village in state_json['features']:\n",
    "        try:\n",
    "            vil_dict[village[\"properties\"]['pc11_village_id']] = 1\n",
    "        except:\n",
    "            vil_dict[int(village[\"properties\"]['pc11_villa'])] = 1\n",
    "    return vil_dict\n"
   ]
  },
  {
   "cell_type": "code",
   "execution_count": null,
   "metadata": {},
   "outputs": [],
   "source": [
    "count_vill(\"UP\")"
   ]
  },
  {
   "cell_type": "code",
   "execution_count": 21,
   "metadata": {},
   "outputs": [],
   "source": [
    "p = count_vill(\"AP\")"
   ]
  },
  {
   "cell_type": "code",
   "execution_count": 23,
   "metadata": {},
   "outputs": [],
   "source": [
    "data_01_11[\"index\"] = data_01_11.index"
   ]
  },
  {
   "cell_type": "code",
   "execution_count": 25,
   "metadata": {},
   "outputs": [
    {
     "ename": "TypeError",
     "evalue": "unhashable type: 'Series'",
     "output_type": "error",
     "traceback": [
      "\u001b[0;31m---------------------------------------------------------------------------\u001b[0m",
      "\u001b[0;31mTypeError\u001b[0m                                 Traceback (most recent call last)",
      "\u001b[1;32m/home/aman/scratch/reg_model_and_preds/Visualise_geojsons/Error_analysis.ipynb Cell 35\u001b[0m in \u001b[0;36m<cell line: 1>\u001b[0;34m()\u001b[0m\n\u001b[0;32m----> <a href='vscode-notebook-cell://ssh-remote%2Bvision/home/aman/scratch/reg_model_and_preds/Visualise_geojsons/Error_analysis.ipynb#ch0000035vscode-remote?line=0'>1</a>\u001b[0m data_01_11[\u001b[39m\"\u001b[39;49m\u001b[39mindex\u001b[39;49m\u001b[39m\"\u001b[39;49m] \u001b[39min\u001b[39;49;00m p\n",
      "\u001b[0;31mTypeError\u001b[0m: unhashable type: 'Series'"
     ]
    }
   ],
   "source": [
    "data_01_11[\"index\"] in p"
   ]
  },
  {
   "cell_type": "code",
   "execution_count": 26,
   "metadata": {},
   "outputs": [
    {
     "name": "stdout",
     "output_type": "stream",
     "text": [
      "AP -0.14998930176164324 1.5868479711303174\n",
      "BR -0.13007085428980505 1.1721014582566793\n",
      "CG -0.6042199021683581 1.634798729931966\n",
      "GJ 0.8680938479835658 1.5886122406217305\n",
      "HR -1.9718004338394794 2.3868450185748262\n",
      "JH 0.15402387370042356 1.1217045437952682\n",
      "KA 0.8443322514725328 1.3594888517987396\n",
      "MH 0.800052381486886 1.7021263617203661\n",
      "MP -0.24123742761353245 1.4378756193297266\n",
      "OR 0.33334761741515256 1.3694122315957433\n",
      "PB 0.2857142857142857 2.48469601474995\n",
      "RJ -0.040465134428532404 1.4608103823613148\n",
      "TN 0.9153420870767104 1.6612809548981862\n",
      "UP 0.08663509123478155 1.3962512704251506\n"
     ]
    }
   ],
   "source": [
    "states_list = ['AP', 'BR', 'CG', 'GJ', 'HR', 'JH', 'KA', 'MH', 'MP',  'OR', 'PB',  'RJ', 'TN', 'UP']\n",
    "for state in states_list:\n",
    "    p = count_vill(state)\n",
    "    temp = data_01_11\n",
    "    temp = temp[temp[\"index\"].map(lambda x : x in p)]\n",
    "    print(state, temp[\"ADI_Diff\"].mean(),temp[\"ADI_Diff\"].std())"
   ]
  },
  {
   "cell_type": "code",
   "execution_count": 27,
   "metadata": {},
   "outputs": [],
   "source": [
    "data_11_19 = pd.merge(adi_2011,adi_2019,left_index=True,right_index=True,suffixes=(\"_2011\",\"_2019\"))"
   ]
  },
  {
   "cell_type": "code",
   "execution_count": null,
   "metadata": {},
   "outputs": [],
   "source": [
    "data_11_19 = data_11_19[data_11_19[\"ADI_2011\"]<12]"
   ]
  }
 ],
 "metadata": {
  "interpreter": {
   "hash": "4550baee8934e82194235819a7f79f0bb7331afff99e83971d7f1cf4c1c02101"
  },
  "kernelspec": {
   "display_name": "Python 3.9.7 ('yolo')",
   "language": "python",
   "name": "python3"
  },
  "language_info": {
   "codemirror_mode": {
    "name": "ipython",
    "version": 3
   },
   "file_extension": ".py",
   "mimetype": "text/x-python",
   "name": "python",
   "nbconvert_exporter": "python",
   "pygments_lexer": "ipython3",
   "version": "3.9.7"
  },
  "orig_nbformat": 4
 },
 "nbformat": 4,
 "nbformat_minor": 2
}
